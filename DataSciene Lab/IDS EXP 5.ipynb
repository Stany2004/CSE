{
 "cells": [
  {
   "cell_type": "markdown",
   "id": "3a46b254-dbec-44f2-830d-7881d8c51330",
   "metadata": {},
   "source": [
    "<!DOCTYPE html>\n",
    "<html lang=\"en\">\n",
    "<head>\n",
    "    <meta charset=\"UTF-8\">\n",
    "    <meta name=\"viewport\" content=\"width=device-width, initial-scale=1.0\">\n",
    "    </head>\n",
    "<body>\n",
    "    <h2>EXP 5</h2>\n",
    "    <h2>Date:20/08/2024</h2>\n",
    "    <h2>Reg No:URK22CS5090</h2><br>\n",
    "    <center><h1>Statistical Inference</h1></center>\n",
    "    <h4>Aim</h4>\n",
    "    <p>Write a python program to demonstrate the Statistical Inference for data science application.</p>\n",
    "    <h4><b>Description</b></h4>\n",
    "    <p>Statistical Inference is the process of making conclusions or predictions about a population based on a sample of data from that population. It is used to find relationships between features to eliminate duplicate features. The source of data to be collected is called a population. A portion of the population is called a sample. Estimation is a process used to make inferences from a sample about unknown population parameters. The point estimate is a particular value that best approximates some parameter. The confidence interval is about the range of interval. The sample mean (\n",
    "𝑋ˉ) is the point estimation of the population mean (𝜇).\n",
    "\n",
    "Pearson correlation coefficient, used in data analysis, measures the linear correlation between two variables. Spearman's correlation computes correlation between ranks of data and works well in the presence of outliers.\n",
    "\n",
    "Hypothesis testing is a statistical method used to make decisions about properties of a population based on sample data:\n",
    "\n",
    "-𝐻0(Null Hypothesis)<br>\n",
    "-𝐻1(Alternate Hypothesis)</p>\n",
    "    \n",
    "</body>\n",
    "</html>"
   ]
  },
  {
   "cell_type": "code",
   "execution_count": 24,
   "id": "7dd01132-20d7-4cfb-a22e-17cd4ea44bdd",
   "metadata": {},
   "outputs": [
    {
     "name": "stdout",
     "output_type": "stream",
     "text": [
      "SetUp Complete\n"
     ]
    }
   ],
   "source": [
    "import pandas as pd\n",
    "import numpy as np\n",
    "import math\n",
    "import seaborn as sns\n",
    "import scipy.stats as stats\n",
    "import matplotlib.pyplot as plt\n",
    "from scipy.stats import pearsonr\n",
    "from scipy.stats import spearmanr\n",
    "print(\"SetUp Complete\")"
   ]
  },
  {
   "cell_type": "code",
   "execution_count": 10,
   "id": "51702d13-5136-4a48-a83d-b31562d0bb18",
   "metadata": {},
   "outputs": [
    {
     "name": "stdout",
     "output_type": "stream",
     "text": [
      "(3000, 17)\n"
     ]
    }
   ],
   "source": [
    "df=pd.read_csv(\"supermarket.csv\")\n",
    "print(df.shape)"
   ]
  },
  {
   "cell_type": "code",
   "execution_count": null,
   "id": "99b80501-9b45-43a9-8fa8-4f1ce8d808b4",
   "metadata": {},
   "outputs": [],
   "source": [
    "n=df.shape[0]\n",
    "np.random.seed(6)"
   ]
  },
  {
   "cell_type": "markdown",
   "id": "1ad4adab-3e90-442e-86aa-b3c64249c0d8",
   "metadata": {},
   "source": [
    "<!DOCTYPE html>\n",
    "<html lang=\"en\">\n",
    "<head>\n",
    "    <meta charset=\"UTF-8\">\n",
    "    <meta name=\"viewport\" content=\"width=device-width, initial-scale=1.0\">\n",
    "    \n",
    "</head>\n",
    "<body>\n",
    "    <p><b>1. Calculate the sample mean for ‘Unit price’ column with n=500 and observe</b></p>\n",
    "</body>\n",
    "</html>"
   ]
  },
  {
   "cell_type": "code",
   "execution_count": 27,
   "id": "ad57711c-34fd-4557-af7d-5d1dc0a5c01b",
   "metadata": {},
   "outputs": [],
   "source": [
    "#1_URK22CS5090\n",
    "s1=500\n",
    "sample_1 = np.random.choice(a=df['Unit price'],size=s1)"
   ]
  },
  {
   "cell_type": "code",
   "execution_count": 32,
   "id": "ae93aec2-653b-4c43-a914-c7cb4fe244b2",
   "metadata": {},
   "outputs": [
    {
     "name": "stdout",
     "output_type": "stream",
     "text": [
      "Sample Price for Unit Price is: 56.874950000000005\n"
     ]
    }
   ],
   "source": [
    "m_sample_1 = sample_1.mean()\n",
    "print(\"Sample Price for Unit Price is:\",m_sample_1)"
   ]
  },
  {
   "cell_type": "markdown",
   "id": "db3b0332-f8d7-4c94-a75d-990f39d69dee",
   "metadata": {},
   "source": [
    "<!DOCTYPE html>\n",
    "<html lang=\"en\">\n",
    "<head>\n",
    "    <meta charset=\"UTF-8\">\n",
    "    <meta name=\"viewport\" content=\"width=device-width, initial-scale=1.0\">\n",
    "    \n",
    "</head>\n",
    "<body>\n",
    "    <p><b>2. Calculate the sample mean for ‘Unit price’ column with n=1000 and observe</b></p>\n",
    "</body>\n",
    "</html>"
   ]
  },
  {
   "cell_type": "code",
   "execution_count": 28,
   "id": "e1cac75a-4955-4f29-ba2b-8199b9508cad",
   "metadata": {},
   "outputs": [],
   "source": [
    "#2_URK22CS5090\n",
    "s1=1000\n",
    "sample_1 = np.random.choice(a=df['Unit price'],size=s1)"
   ]
  },
  {
   "cell_type": "code",
   "execution_count": 31,
   "id": "4455ea07-0454-4198-837d-1278d2f8c132",
   "metadata": {},
   "outputs": [
    {
     "name": "stdout",
     "output_type": "stream",
     "text": [
      "Sample Price for Unit Price is: 56.874950000000005\n"
     ]
    }
   ],
   "source": [
    "m_sample_1 = sample_1.mean()\n",
    "print(\"Sample Price for Unit Price is:\",m_sample_1)"
   ]
  },
  {
   "cell_type": "markdown",
   "id": "8210e36e-46bd-49bc-b6bc-967c6e05028d",
   "metadata": {},
   "source": [
    "<!DOCTYPE html>\n",
    "<html lang=\"en\">\n",
    "<head>\n",
    "    <meta charset=\"UTF-8\">\n",
    "    <meta name=\"viewport\" content=\"width=device-width, initial-scale=1.0\">\n",
    "    \n",
    "</head>\n",
    "<body>\n",
    "    <p><b>3. Calculate the population mean for ‘Unit price’ column</b></p>\n",
    "</body>\n",
    "</html>"
   ]
  },
  {
   "cell_type": "code",
   "execution_count": 24,
   "id": "58567263-e64e-4ee0-9f39-a49be81b6b89",
   "metadata": {},
   "outputs": [
    {
     "name": "stdout",
     "output_type": "stream",
     "text": [
      "55.67213\n"
     ]
    }
   ],
   "source": [
    "#3_URK22CS5090\n",
    "population_mean = df['Unit price'].mean()\n",
    "print(population_mean)"
   ]
  },
  {
   "cell_type": "markdown",
   "id": "b4c0fa2e-d580-4cf1-a360-94e8c924e8b8",
   "metadata": {},
   "source": [
    "<!DOCTYPE html>\n",
    "<html lang=\"en\">\n",
    "<head>\n",
    "    <meta charset=\"UTF-8\">\n",
    "    <meta name=\"viewport\" content=\"width=device-width, initial-scale=1.0\">\n",
    "    \n",
    "</head>\n",
    "<body>\n",
    "    <p><b>4. Calculate the confidence interval (CI) with sample mean for ‘Unit price’ column of\n",
    "n=500 and confidence level of 95%. Observe whether the population mean lies in CI.</b></p>\n",
    "</body>\n",
    "</html>"
   ]
  },
  {
   "cell_type": "code",
   "execution_count": 38,
   "id": "da0d2841-e43f-4b66-9935-20a6353afb19",
   "metadata": {},
   "outputs": [
    {
     "name": "stdout",
     "output_type": "stream",
     "text": [
      "Sample mean for Unit price for n=500: 56.874950000000005\n",
      "Standard deviation value is: 26.196580743298163\n",
      "Marginal Error: 1.623680896323647\n",
      "Confidence Interval: 55.25126910367636 58.498630896323654\n",
      "[ 55.25126910367636 55.67213 58.498630896323654 ]\n"
     ]
    }
   ],
   "source": [
    "#4_URK22CS5090\n",
    "print(\"Sample mean for Unit price for n=500:\",m_sample_1)\n",
    "sd=np.std(sample_1,ddof=1)\n",
    "print(\"Standard deviation value is:\",sd)\n",
    "\n",
    "cl=0.95\n",
    "alpha=(1-cl)/2\n",
    "z_critical=round(stats.norm.ppf(q=1-alpha),2)\n",
    "\n",
    "er=z_critical * sd/math.sqrt(s1)\n",
    "print(\"Marginal Error:\",er)\n",
    "l=m_sample_1-er\n",
    "u=m_sample_1+er\n",
    "print(\"Confidence Interval:\",l,u)\n",
    "print(\"[\",l,population_mean,u,\"]\")"
   ]
  },
  {
   "cell_type": "markdown",
   "id": "1c6d3e22-059f-4d42-9e76-526175157c7c",
   "metadata": {},
   "source": [
    "<!DOCTYPE html>\n",
    "<html lang=\"en\">\n",
    "<head>\n",
    "    <meta charset=\"UTF-8\">\n",
    "    <meta name=\"viewport\" content=\"width=device-width, initial-scale=1.0\">\n",
    "    \n",
    "</head>\n",
    "<body>\n",
    "    <p><b>5. Change the confidence level to 99% and observe the confidence interval for the same\n",
    "sample mean for ‘Unit price’ column of n=500.</b></p>\n",
    "</body>\n",
    "</html>"
   ]
  },
  {
   "cell_type": "code",
   "execution_count": 37,
   "id": "67f0bed5-b9c4-410b-bb4d-b2a3de36854f",
   "metadata": {},
   "outputs": [
    {
     "name": "stdout",
     "output_type": "stream",
     "text": [
      "Sample mean for Unit price for n=500: 56.874950000000005\n",
      "Standard deviation value is: 26.196580743298163\n",
      "Zscore 2.58\n",
      "Marginal Error: 2.1372942410790867\n",
      "Confidence Interval: 54.737655758920916 59.012244241079095\n",
      "[ 54.737655758920916 55.67213 59.012244241079095 ]\n"
     ]
    }
   ],
   "source": [
    "#5_URK22CS5090\n",
    "print(\"Sample mean for Unit price for n=500:\",m_sample_1)\n",
    "sd=np.std(sample_1,ddof=1)\n",
    "print(\"Standard deviation value is:\",sd)\n",
    "\n",
    "cl=0.99\n",
    "alpha=(1-cl)/2\n",
    "z_critical=round(stats.norm.ppf(q=1-alpha),2)\n",
    "print(\"Zscore\",z_critical)\n",
    "\n",
    "er=z_critical * sd/math.sqrt(s1)\n",
    "print(\"Marginal Error:\",er)\n",
    "l=m_sample_1-er\n",
    "u=m_sample_1+er\n",
    "print(\"Confidence Interval:\",l,u)\n",
    "print(\"[\",l,population_mean,u,\"]\")"
   ]
  },
  {
   "cell_type": "markdown",
   "id": "6ca49d82-224d-4338-aafd-07e331d14edf",
   "metadata": {},
   "source": [
    "<!DOCTYPE html>\n",
    "<html lang=\"en\">\n",
    "<head>\n",
    "    <meta charset=\"UTF-8\">\n",
    "    <meta name=\"viewport\" content=\"width=device-width, initial-scale=1.0\">\n",
    "    \n",
    "</head>\n",
    "<body>\n",
    "    <p><b>6. Calculate and plot the Confidence Intervals for 25 Trials with n=500 and CI=95% for\n",
    "‘Unit price’ column. Observe the results.</b></p>\n",
    "</body>\n",
    "</html>"
   ]
  },
  {
   "cell_type": "code",
   "execution_count": 41,
   "id": "af11b5f2-dcf2-4526-9f69-507e62dda983",
   "metadata": {},
   "outputs": [
    {
     "name": "stdout",
     "output_type": "stream",
     "text": [
      "Sample mean: [55.531180000000006, 56.09314, 55.38618, 54.94725999999999, 54.79228, 56.21382, 55.398300000000006, 56.891119999999994, 55.113839999999996, 53.622260000000004, 56.902440000000006, 56.5573, 54.9411, 53.122699999999995, 54.938840000000006, 54.75488000000001, 55.110699999999994, 56.64414, 57.97186, 57.0788, 55.173, 57.30408, 53.7135, 56.812619999999995, 56.171659999999996]\n",
      "Population mean: 55.67213\n",
      "Confidence_Interval: [(53.24435156982026, 57.81800843017975), (53.80031140945788, 58.38596859054211), (53.13059345031211, 57.641766549687894), (52.71061684867926, 57.18390315132073), (52.484264354183594, 57.1002956458164), (53.81564390199671, 58.61199609800329), (53.119960461807565, 57.67663953819245), (54.56030651229001, 59.221933487709975), (52.74423286613789, 57.4834471338621), (51.33342739961349, 55.91109260038652), (54.6126433739903, 59.19223662600971), (54.29189999543228, 58.822700004567714), (52.636348413574424, 57.24585158642557), (50.802539391710795, 55.442860608289195), (52.6653000031687, 57.21237999683131), (52.39708775115368, 57.11267224884634), (52.828888775962206, 57.39251122403778), (54.311332772780965, 58.976947227219036), (55.646516686045345, 60.297203313954654), (54.77188513368501, 59.38571486631499), (52.97957032285244, 57.366429677147565), (55.012229584928384, 59.595930415071614), (51.3970369787748, 56.02996302122521), (54.52774905297761, 59.09749094702238), (53.84725304951232, 58.49606695048767)]\n"
     ]
    }
   ],
   "source": [
    "#6_URK22CS5090\n",
    "n=500\n",
    "trials=25\n",
    "\n",
    "cl=0.95\n",
    "alpha=(1-cl)/2\n",
    "z_critical=stats.norm.ppf(q=1-alpha)\n",
    "population_mean=df[\"Unit price\"].mean()\n",
    "\n",
    "means=[]\n",
    "conf_intervals=[]\n",
    "\n",
    "for i in range(trials):\n",
    "    sample=np.random.choice(df['Unit price'],size=n)\n",
    "    m_sample=np.mean(sample)\n",
    "    means.append(m_sample)\n",
    "    sd=np.std(sample,ddof=1)\n",
    "\n",
    "    margin_of_error=z_critical*(sd/np.sqrt(n))\n",
    "    l=m_sample-margin_of_error\n",
    "    u=m_sample+margin_of_error\n",
    "    conf_intervals.append((l,u))\n",
    "    \n",
    "print(\"Sample mean:\",means)\n",
    "print(\"Population mean:\",population_mean)\n",
    "print(\"Confidence_Interval:\",conf_intervals)"
   ]
  },
  {
   "cell_type": "markdown",
   "id": "1d133364-9a2e-4b83-ba8c-74df91ca3f98",
   "metadata": {},
   "source": [
    "<!DOCTYPE html>\n",
    "<html lang=\"en\">\n",
    "<head>\n",
    "    <meta charset=\"UTF-8\">\n",
    "    <meta name=\"viewport\" content=\"width=device-width, initial-scale=1.0\">\n",
    "    \n",
    "</head>\n",
    "<body>\n",
    "    <p><b>7. Calculate the Correlation Coefficient using Pearson for the given table</b></p>\n",
    "</body>\n",
    "</html>"
   ]
  },
  {
   "cell_type": "code",
   "execution_count": 21,
   "id": "53d276ed-d911-4a0f-bf48-826570b47e12",
   "metadata": {},
   "outputs": [
    {
     "name": "stdout",
     "output_type": "stream",
     "text": [
      "pearson correlation coefficient:0.6102\n"
     ]
    }
   ],
   "source": [
    "#7_URK22CS5090\n",
    "x=pd.Series([150,169,175,180,200])\n",
    "y=pd.Series([125,130,160,169,150])\n",
    "pearson_corr=x.corr(y,method='pearson')\n",
    "print(f'pearson correlation coefficient:{pearson_corr:.4f}')\n",
    "\n"
   ]
  },
  {
   "cell_type": "markdown",
   "id": "964877ec-e264-4575-bc9e-e509f26ab296",
   "metadata": {},
   "source": [
    "<!DOCTYPE html>\n",
    "<html lang=\"en\">\n",
    "<head>\n",
    "    <meta charset=\"UTF-8\">\n",
    "    <meta name=\"viewport\" content=\"width=device-width, initial-scale=1.0\">\n",
    "    \n",
    "</head>\n",
    "<body>\n",
    "    <p><b>8. Calculate the Correlation Coefficient using Spearman for the given table</b></p>\n",
    "</body>\n",
    "</html>"
   ]
  },
  {
   "cell_type": "code",
   "execution_count": 22,
   "id": "2d46305e-7d03-41bb-a29a-af5225c40436",
   "metadata": {},
   "outputs": [
    {
     "name": "stdout",
     "output_type": "stream",
     "text": [
      "spearman correlation coefficient:0.7000\n"
     ]
    }
   ],
   "source": [
    "#8_URK22CS5090\n",
    "x=pd.Series([150,169,175,180,200])\n",
    "y=pd.Series([125,130,160,169,150])\n",
    "spearman_corr=x.corr(y,method='spearman')\n",
    "print(f'spearman correlation coefficient:{spearman_corr:.4f}')"
   ]
  },
  {
   "cell_type": "markdown",
   "id": "54f1c618-3fb7-430a-add7-2f7e3fa1e4d0",
   "metadata": {},
   "source": [
    "<!DOCTYPE html>\n",
    "<html lang=\"en\">\n",
    "<head>\n",
    "    <meta charset=\"UTF-8\">\n",
    "    <meta name=\"viewport\" content=\"width=device-width, initial-scale=1.0\">\n",
    "    \n",
    "</head>\n",
    "<body>\n",
    "    <p><b>9.Calculate the Covariance Matrix and plot the Correlation in Seaborn Heatmap for the\n",
    "given data and analyse it</b></p>\n",
    "</body>\n",
    "</html>"
   ]
  },
  {
   "cell_type": "code",
   "execution_count": 43,
   "id": "49b9f81c-2783-4e8f-b219-11a3d1b1b2c3",
   "metadata": {},
   "outputs": [
    {
     "name": "stdout",
     "output_type": "stream",
     "text": [
      "Cov_Matrix:         Height   Score     Age\n",
      "Height   11.50    50.0   34.75\n",
      "Score    50.00  1250.0  205.00\n",
      "Age      34.75   205.0  110.00\n"
     ]
    },
    {
     "data": {
      "text/plain": [
       "<Axes: >"
      ]
     },
     "execution_count": 43,
     "metadata": {},
     "output_type": "execute_result"
    },
    {
     "data": {
      "image/png": "[encoded data removed]",
      "text/plain": [
       "<Figure size 640x480 with 2 Axes>"
      ]
     },
     "metadata": {},
     "output_type": "display_data"
    }
   ],
   "source": [
    "#9_URK22CS5090\n",
    "data={'Height':[64,66,68,69,73],'Score':[580,570,590,660,600],'Age':[29,33,37,46,55]}\n",
    "df=pd.DataFrame(data)\n",
    "cov_matrix=df.cov()\n",
    "print(\"Cov_Matrix:\",cov_matrix)\n",
    "sns.heatmap(cov_matrix,xticklabels=cov_matrix.columns,yticklabels=cov_matrix.columns,annot=True)"
   ]
  },
  {
   "cell_type": "markdown",
   "id": "c6c4e3d0-0ffa-40f5-bc1b-a06345550d77",
   "metadata": {},
   "source": [
    "<!DOCTYPE html>\n",
    "<html lang=\"en\">\n",
    "<head>\n",
    "    <meta charset=\"UTF-8\">\n",
    "    <meta name=\"viewport\" content=\"width=device-width, initial-scale=1.0\">\n",
    "    \n",
    "</head>\n",
    "<body>\n",
    "    <p><b>10. Perform a hypothesis testing with Z-test\n",
    "A herd of 1,500 steer was fed a special high‐protein grain for a month, has the standard\n",
    "deviation of weight gain for the entire herd was 7.1 and average weight gain per steer\n",
    "for the month was 5 pounds. By feeding the herd with special high‐protein grain, it is\n",
    "claimed that the weight of the herd has increased. In order to test this claim, a random\n",
    "sample of 29 were weighed and had gained an average of 6.7 pounds. Can we support\n",
    "the claim at 5 % level? (Z-critical=1.645)</b></p>\n",
    "</body>\n",
    "</html>"
   ]
  },
  {
   "cell_type": "code",
   "execution_count": 10,
   "id": "545ee5a7-bf45-4ac1-b995-097f003973a8",
   "metadata": {},
   "outputs": [
    {
     "name": "stdout",
     "output_type": "stream",
     "text": [
      "Reject H0\n",
      "3.5355339059327378\n"
     ]
    }
   ],
   "source": [
    "#10_URK22CS5090\n",
    "xbar=1850\n",
    "mu=1800\n",
    "n=50\n",
    "sd=100\n",
    "z=(((xbar-mu)/(sd/math.sqrt(n))))\n",
    "if(z>2.33):\n",
    "    print(\"Reject H0\")\n",
    "else:\n",
    "    print(\"Accept H0\")\n",
    "print(z)\n",
    "   "
   ]
  },
  {
   "cell_type": "markdown",
   "id": "ecd7bc37-f57c-4d5f-8d59-092abcda5f95",
   "metadata": {},
   "source": [
    "<!DOCTYPE html>\n",
    "<html lang=\"en\">\n",
    "<head>\n",
    "    <meta charset=\"UTF-8\">\n",
    "    <meta name=\"viewport\" content=\"width=device-width, initial-scale=1.0\">\n",
    "    \n",
    "</head>\n",
    "<body>\n",
    "    <p><b>Result:</b></p>\n",
    "    <p>Thus, the program to demonstrate the statistical interferences used for data science application \n",
    "using python language was executed successfully.</p>\n",
    "</body>\n",
    "</html>"
   ]
  }
 ],
 "metadata": {
  "kernelspec": {
   "display_name": "anaconda-2024.02-py310",
   "language": "python",
   "name": "conda-env-anaconda-2024.02-py310-py"
  },
  "language_info": {
   "codemirror_mode": {
    "name": "ipython",
    "version": 3
   },
   "file_extension": ".py",
   "mimetype": "text/x-python",
   "name": "python",
   "nbconvert_exporter": "python",
   "pygments_lexer": "ipython3",
   "version": "3.10.14"
  }
 },
 "nbformat": 4,
 "nbformat_minor": 5
}
