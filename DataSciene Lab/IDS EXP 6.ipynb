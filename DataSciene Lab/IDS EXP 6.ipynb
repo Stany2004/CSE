{
 "cells": [
  {
   "cell_type": "markdown",
   "id": "5e26c6f8-6721-4ab3-8e10-6e6cbc6938d7",
   "metadata": {},
   "source": [
    "<!DOCTYPE html>\n",
    "<html lang=\"en\">\n",
    "<head>\n",
    "    <meta charset=\"UTF-8\">\n",
    "    <meta name=\"viewport\" content=\"width=device-width, initial-scale=1.0\">\n",
    "</head>\n",
    "<body>\n",
    "    <h2>EXP 6</h2>\n",
    "    <h2>Date:31/09/2024</h2>\n",
    "    <h2>Reg No:URK22CS5090</h2><br>\n",
    "    <center><h1>Performance Analysis On Regression Techniques</h1></center>\n",
    "    <h4><b>Aim</b></h4>\n",
    "    <p>To implement the linear regression model for a given dataset and to demonstrate performance analysis on regression techniques.</p>\n",
    "    <h4><b>Description<b></h4>\n",
    "    <p>Linear regression is used to make predictions for continuous real or numeric variables such as age, price, product. It is a type of supervised learning. It shows a linear relationship between the dependent variable (Y) and one or more independent variables (X), hence called linear regression.\n",
    "\n",
    "There are 3 types of correlation:<br>\n",
    "&nbsp;&nbsp;&nbsp;1.Positive Correlation: When the input variable (X) increases, the output variable (Y) will also increase.<br>\n",
    "&nbsp;&nbsp;&nbsp;2.Negative Correlation: When the input variable (X) increases, the output variable (Y) will decrease.<br>\n",
    "&nbsp;&nbsp;&nbsp;3.No Correlation: How much ever we increase the value of X, the output variable (Y) will be flat and have the same value.<br>\n",
    "The main goal is to find the best fit line (means the error between the predicted and actual values should be minimized). It has the least error.</p>\n",
    "</body>\n",
    "</html>"
   ]
  },
  {
   "cell_type": "code",
   "execution_count": 131,
   "id": "a40b330b-5764-4fb3-8db0-345bc37c61ec",
   "metadata": {},
   "outputs": [
    {
     "name": "stdout",
     "output_type": "stream",
     "text": [
      "Setup Complete\n"
     ]
    }
   ],
   "source": [
    "import numpy as np\n",
    "import matplotlib.pyplot as plt\n",
    "import pandas as pd\n",
    "from sklearn.model_selection import train_test_split\n",
    "from sklearn.linear_model import LinearRegression\n",
    "from sklearn.metrics import mean_squared_error, r2_score\n",
    "print(\"Setup Complete\")"
   ]
  },
  {
   "cell_type": "code",
   "execution_count": 106,
   "id": "02e1a043-7617-495a-93a3-73d047efa38a",
   "metadata": {},
   "outputs": [],
   "source": [
    "df=pd.read_csv(\"Admission.csv\")"
   ]
  },
  {
   "cell_type": "code",
   "execution_count": 107,
   "id": "ff30c9ec-8146-4264-8572-c5167161542a",
   "metadata": {},
   "outputs": [
    {
     "data": {
      "text/plain": [
       "(500, 9)"
      ]
     },
     "execution_count": 107,
     "metadata": {},
     "output_type": "execute_result"
    }
   ],
   "source": [
    "df.shape"
   ]
  },
  {
   "cell_type": "code",
   "execution_count": 108,
   "id": "d8e9a430-b34c-4f7a-bbc6-cdfa8c378ced",
   "metadata": {},
   "outputs": [
    {
     "name": "stdout",
     "output_type": "stream",
     "text": [
      "<class 'pandas.core.frame.DataFrame'>\n",
      "RangeIndex: 500 entries, 0 to 499\n",
      "Data columns (total 9 columns):\n",
      " #   Column             Non-Null Count  Dtype  \n",
      "---  ------             --------------  -----  \n",
      " 0   Serial No.         500 non-null    int64  \n",
      " 1   GRE Score          500 non-null    int64  \n",
      " 2   TOEFL Score        500 non-null    int64  \n",
      " 3   University Rating  500 non-null    int64  \n",
      " 4   SOP                500 non-null    float64\n",
      " 5   LOR                500 non-null    float64\n",
      " 6   CGPA               500 non-null    float64\n",
      " 7   Research           500 non-null    int64  \n",
      " 8   Chance of Admit    500 non-null    float64\n",
      "dtypes: float64(4), int64(5)\n",
      "memory usage: 35.3 KB\n"
     ]
    }
   ],
   "source": [
    "df.info()"
   ]
  },
  {
   "cell_type": "markdown",
   "id": "a939c85b-3802-4d1b-a2b2-94c1f05bbe09",
   "metadata": {},
   "source": [
    "<!DOCTYPE html>\n",
    "<html lang=\"en\">\n",
    "<head>\n",
    "    <meta charset=\"UTF-8\">\n",
    "    <meta name=\"viewport\" content=\"width=device-width, initial-scale=1.0\">\n",
    "\n",
    "</head>\n",
    "<body>\n",
    "    <b><p>1. Develop the linear regression model for the given data by step-by-step manual procedure.\n",
    "(Don’t use Scikit-learn library)</p></b>\n",
    "    <p><b>a. Calculate the intercept and regression coefficients in y=b0+xb1</b</p>\n",
    "</body>\n",
    "</html>"
   ]
  },
  {
   "cell_type": "code",
   "execution_count": 109,
   "id": "b452d4a0-f112-484c-8a5b-dddd2c78ffb5",
   "metadata": {},
   "outputs": [
    {
     "name": "stdout",
     "output_type": "stream",
     "text": [
      "Intercept: 65.1415715245131\n",
      "Regression Coefficient: 486.0\n"
     ]
    }
   ],
   "source": [
    "#1_URK22CS5090(i)\n",
    "x=np.array([43,21,25,42,57,59])\n",
    "y=np.array([99,65,79,75,87,81])\n",
    "x_mean=np.mean(x)\n",
    "y_mean=np.mean(y)\n",
    "\n",
    "#slope\n",
    "num=np.sum((x-x_mean)*(y-y_mean))\n",
    "deno=np.sum((x-x_mean)**2)\n",
    "m=num/deno\n",
    "\n",
    "#intercept\n",
    "c=np.sum(y_mean - m * x_mean)\n",
    "print(\"Intercept:\",c)\n",
    "y_pred=np.sum(m*x+c)\n",
    "print(\"Regression Coefficient:\",y_pred)\n"
   ]
  },
  {
   "cell_type": "markdown",
   "id": "f75382d0-2a26-4ed4-9b06-7b8cc22ec8fb",
   "metadata": {},
   "source": [
    "<!DOCTYPE html>\n",
    "<html lang=\"en\">\n",
    "<head>\n",
    "    <meta charset=\"UTF-8\">\n",
    "    <meta name=\"viewport\" content=\"width=device-width, initial-scale=1.0\">\n",
    "\n",
    "</head>\n",
    "<body>\n",
    "    <b><p>1. Develop the linear regression model for the given data by step-by-step manual procedure.\n",
    "(Don’t use Scikit-learn library)</p></b>\n",
    "    <p><b>b. Analyse the various performance metrics (Mean Squared Error, Mean Absolute Error, Root Mean Squared Error, and R-Squared)</b></p>\n",
    "</body>\n",
    "</html>"
   ]
  },
  {
   "cell_type": "code",
   "execution_count": 110,
   "id": "9ce1d29e-cd31-4624-966b-fd29df4601c0",
   "metadata": {},
   "outputs": [
    {
     "name": "stdout",
     "output_type": "stream",
     "text": [
      "MSE: 164134.33333333334\n",
      "RMSE: 405.13495693821994\n",
      "MAE: 405.0\n"
     ]
    }
   ],
   "source": [
    "#1_URK22CS5090(ii)\n",
    "#MSE\n",
    "n=6\n",
    "mean_squared_error=np.sum((y-y_pred)**2/n)\n",
    "print(\"MSE:\",mean_squared_error)\n",
    "\n",
    "#RMSE\n",
    "root_mean_squared_error=np.sqrt(mean_squared_error)\n",
    "print(\"RMSE:\",root_mean_squared_error)\n",
    "#MAE\n",
    "mean_absolute_error = np.sum(np.abs(y - y_pred)) / n\n",
    "print(\"MAE:\",mean_absolute_error)\n",
    "#R_square\n",
    "total_sum_squares= np.sum((y - y_mean) ** 2)\n",
    "sum_squares_error= np.sum((y - y_pred) ** 2)\n",
    "r_squared = 1 - (sum_squares_error/total_sum_squares)\n"
   ]
  },
  {
   "cell_type": "markdown",
   "id": "4bb2af90-6d6b-441a-915b-fca87a29feee",
   "metadata": {},
   "source": [
    "<!DOCTYPE html>\n",
    "<html lang=\"en\">\n",
    "<head>\n",
    "    <meta charset=\"UTF-8\">\n",
    "    <meta name=\"viewport\" content=\"width=device-width, initial-scale=1.0\">\n",
    "\n",
    "</head>\n",
    "<body>\n",
    "    <b><p>2. Develop the linear regression model for the prediction of Graduate Admissions from an\n",
    "Indian perspective in-terms of GRE Scores, LOR, CGPA using the scikit-learn<br>\n",
    "a. Divide the data into training (75%) and testing set (25%)<br>\n",
    "b. Display the intercept and regression coefficients for the following cases<br>\n",
    "1. Analyse the impact of GRE scores to the Chance of Admit<br>\n",
    "2. Analyse the impact of LOR to the Chance of Admit<br>\n",
    "3. Analyse the impact of CGPA to the Chance of Admit</p></b>\n",
    "    \n",
    "</body>\n",
    "</html>"
   ]
  },
  {
   "cell_type": "code",
   "execution_count": 83,
   "id": "62faa738-fea3-40b2-a0c6-f8b733e50498",
   "metadata": {},
   "outputs": [],
   "source": [
    "#2_URK22CS5090(a)\n",
    "x=df.iloc[:, :-1].values\n",
    "y=df.iloc[:, :-1].values\n",
    "x_train,x_test,y_train,y_test=train_test_split(x,y,test_size=1/3,random_state=0)"
   ]
  },
  {
   "cell_type": "code",
   "execution_count": 111,
   "id": "b2eb3d3d-8f8b-4fe2-9ce7-85ff0bd61b68",
   "metadata": {},
   "outputs": [
    {
     "name": "stdout",
     "output_type": "stream",
     "text": [
      "Slope: 0.3852249832102082\n",
      "Intercept: 65.1415715245131\n",
      "Regression Coefficient: 486.0\n"
     ]
    }
   ],
   "source": [
    "#2_URK22CS5090(b.1)\n",
    "sample_data = df[['GRE Score','Chance of Admit ']]\n",
    "sample = sample_data.sample(n=10)\n",
    "\n",
    "x_mean=np.mean(x)\n",
    "y_mean=np.mean(y)\n",
    "\n",
    "#slope\n",
    "num=np.sum((x-x_mean)*(y-y_mean))\n",
    "deno=np.sum((x-x_mean)**2)\n",
    "m=num/deno\n",
    "print(\"Slope:\",m)\n",
    "\n",
    "#intercept\n",
    "c=np.sum(y_mean - m * x_mean)\n",
    "print(\"Intercept:\",c)\n",
    "y_pred=np.sum(m*x+c)\n",
    "print(\"Regression Coefficient:\",y_pred)"
   ]
  },
  {
   "cell_type": "code",
   "execution_count": 139,
   "id": "6a2a8f61-9498-4263-9d67-14e7e52def60",
   "metadata": {},
   "outputs": [
    {
     "name": "stdout",
     "output_type": "stream",
     "text": [
      "Slope: -1.2677218816793714e-16\n",
      "Intercept: 0.7217400000000005\n",
      "Regression Coefficient: 360.87000000000006\n"
     ]
    }
   ],
   "source": [
    "#2_URK22CS5090(b.2)\n",
    "x = df[['LOR ']].values \n",
    "y = df['Chance of Admit '].values\n",
    "x_train,x_test,y_train,y_test=train_test_split(x,y,test_size=1/3,random_state=0)\n",
    "sample_data = df[['LOR ','Chance of Admit ']]\n",
    "sample = sample_data.sample(n=10)\n",
    "\n",
    "x_mean=np.mean(x)\n",
    "y_mean=np.mean(y)\n",
    "\n",
    "#slope\n",
    "num=np.sum((x-x_mean)*(y-y_mean))\n",
    "deno=np.sum((x-x_mean)**2)\n",
    "m=num/deno\n",
    "print(\"Slope:\",m)\n",
    "\n",
    "#intercept\n",
    "c=np.sum(y_mean - m * x_mean)\n",
    "print(\"Intercept:\",c)\n",
    "y_pred=np.sum(m*x+c)\n",
    "print(\"Regression Coefficient:\",y_pred)\n"
   ]
  },
  {
   "cell_type": "code",
   "execution_count": 141,
   "id": "a612b57b-6889-4362-8be4-2dfe6780106f",
   "metadata": {},
   "outputs": [
    {
     "name": "stdout",
     "output_type": "stream",
     "text": [
      "Slope: -1.2677218816793714e-16\n",
      "Intercept: 0.7217400000000005\n",
      "Regression Coefficient: 360.87000000000006\n"
     ]
    }
   ],
   "source": [
    "#2_URK22CS5090(b.3)\n",
    "sample_data = df[['CGPA','Chance of Admit ']]\n",
    "sample = sample_data.sample(n=10)\n",
    "\n",
    "x_mean=np.mean(x)\n",
    "y_mean=np.mean(y)\n",
    "\n",
    "#slope\n",
    "num=np.sum((x-x_mean)*(y-y_mean))\n",
    "deno=np.sum((x-x_mean)**2)\n",
    "m=num/deno\n",
    "print(\"Slope:\",m)\n",
    "\n",
    "#intercept\n",
    "c=np.sum(y_mean - m * x_mean)\n",
    "print(\"Intercept:\",c)\n",
    "y_pred=np.sum(m*x+c)\n",
    "print(\"Regression Coefficient:\",y_pred)\n"
   ]
  },
  {
   "cell_type": "markdown",
   "id": "972e4286-b746-4e1a-afe9-29722be25403",
   "metadata": {},
   "source": [
    "<!DOCTYPE html>\n",
    "<html lang=\"en\">\n",
    "<head>\n",
    "    <meta charset=\"UTF-8\">\n",
    "    <meta name=\"viewport\" content=\"width=device-width, initial-scale=1.0\">\n",
    "\n",
    "</head>\n",
    "<body>\n",
    "    <b><p>c. Predict the y value (y’) for the testing set (x) and analyse the performance metrics with\n",
    "the actual value (y) and predicted values (y’) for the above 3 cases</p></b>\n",
    "</body>\n",
    "</html>"
   ]
  },
  {
   "cell_type": "code",
   "execution_count": 133,
   "id": "ac9f44e7-a4f3-4748-a188-456dfedaece1",
   "metadata": {},
   "outputs": [
    {
     "name": "stdout",
     "output_type": "stream",
     "text": [
      "Performance metrics for GRE\n",
      "R^2: 0.6168905667479365\n",
      "RMSE: 0.08648102657683031\n",
      "Performance metrics for LOR\n",
      "R^2: 0.4920388570915454\n",
      "RMSE: 0.09958058179300439\n",
      "Performance metrics for CGPA\n",
      "R^2: 0.7890440110037968\n",
      "RMSE: 0.06417344339856003\n"
     ]
    }
   ],
   "source": [
    "x = df[['GRE Score', 'LOR ', 'CGPA']]\n",
    "y = df['Chance of Admit ']\n",
    "\n",
    "x_train, x_test, y_train, y_test = train_test_split(x, y, test_size=0.25, random_state=42)\n",
    "\n",
    "regressor = LinearRegression()\n",
    "\n",
    "regressor.fit(x_train[['GRE Score']], y_train)\n",
    "y_pred_gre = regressor.predict(x_test[['GRE Score']])\n",
    "\n",
    "regressor.fit(x_train[['LOR ']], y_train)\n",
    "y_pred_lor = regressor.predict(x_test[['LOR ']])\n",
    "\n",
    "regressor.fit(x_train[['CGPA']], y_train)\n",
    "y_pred_cgpa = regressor.predict(x_test[['CGPA']])\n",
    "\n",
    "print(\"Performance metrics for GRE\")\n",
    "print(\"R^2:\", r2_score(y_test, y_pred_gre))\n",
    "print(\"RMSE:\", mean_squared_error(y_test, y_pred_gre, squared=False))\n",
    "\n",
    "print(\"Performance metrics for LOR\")\n",
    "print(\"R^2:\", r2_score(y_test, y_pred_lor))\n",
    "print(\"RMSE:\", mean_squared_error(y_test, y_pred_lor, squared=False))\n",
    "\n",
    "print(\"Performance metrics for CGPA\")\n",
    "print(\"R^2:\", r2_score(y_test, y_pred_cgpa))\n",
    "print(\"RMSE:\", mean_squared_error(y_test, y_pred_cgpa, squared=False))"
   ]
  },
  {
   "cell_type": "markdown",
   "id": "67e11e47-4428-49e5-ab2b-6fbbee905d96",
   "metadata": {},
   "source": [
    "<!DOCTYPE html>\n",
    "<html lang=\"en\">\n",
    "<head>\n",
    "    <meta charset=\"UTF-8\">\n",
    "    <meta name=\"viewport\" content=\"width=device-width, initial-scale=1.0\">\n",
    "\n",
    "</head>\n",
    "<body>\n",
    "    <b><p>d. Identify the input parameter that has a greater impact in the prediction of Graduate\n",
    "Admissions from an Indian perspective</p></b>\n",
    "</body>\n",
    "</html>"
   ]
  },
  {
   "cell_type": "code",
   "execution_count": 135,
   "id": "aa0ac69e-d01f-4314-9ac9-dacaa2060b83",
   "metadata": {},
   "outputs": [
    {
     "name": "stdout",
     "output_type": "stream",
     "text": [
      "Performance metrics for CGPA\n",
      "R^2: 0.7890440110037968\n",
      "RMSE: 0.06417344339856003\n"
     ]
    }
   ],
   "source": [
    "#2_URK22CS5090_(d)\n",
    "x = df[['CGPA']]\n",
    "y = df['Chance of Admit ']\n",
    "\n",
    "x_train, x_test, y_train, y_test = train_test_split(x, y, test_size=0.25, random_state=42)\n",
    "\n",
    "regressor = LinearRegression()\n",
    "regressor.fit(x_train[['CGPA']], y_train)\n",
    "y_pred_cgpa = regressor.predict(x_test[['CGPA']])\n",
    "\n",
    "print(\"Performance metrics for CGPA\")\n",
    "print(\"R^2:\", r2_score(y_test, y_pred_cgpa))\n",
    "print(\"RMSE:\", mean_squared_error(y_test, y_pred_cgpa, squared=False))\n"
   ]
  },
  {
   "cell_type": "markdown",
   "id": "c7bd5e59-9b75-4d89-8a88-a15c97b5c31c",
   "metadata": {},
   "source": [
    "<!DOCTYPE html>\n",
    "<html lang=\"en\">\n",
    "<head>\n",
    "    <meta charset=\"UTF-8\">\n",
    "    <meta name=\"viewport\" content=\"width=device-width, initial-scale=1.0\">\n",
    "\n",
    "</head>\n",
    "<body>\n",
    "    <b><p>e. Plot the regression line for the input parameter that has a greater impact in the \n",
    "prediction of prediction of Graduate Admissions from an Indian perspective</p></b>\n",
    "</body>\n",
    "</html>"
   ]
  },
  {
   "cell_type": "code",
   "execution_count": 121,
   "id": "4169f474-7fd2-4bb4-8296-6a8ac170534e",
   "metadata": {},
   "outputs": [
    {
     "data": {
      "image/png": "[encoded data removed]",
      "text/plain": [
       "<Figure size 800x600 with 1 Axes>"
      ]
     },
     "metadata": {},
     "output_type": "display_data"
    }
   ],
   "source": [
    "#2_URK22CS5090_(e)\n",
    "x = df[['CGPA']]\n",
    "y = df['Chance of Admit ']\n",
    "\n",
    "x_train, x_test, y_train, y_test = train_test_split(x, y, test_size=1/3, random_state=42)\n",
    "\n",
    "regressor = LinearRegression()\n",
    "regressor.fit(x_train, y_train)\n",
    "\n",
    "y_pred = regressor.predict(x_test)\n",
    "\n",
    "plt.figure(figsize=(8, 6))\n",
    "plt.scatter(x_test, y_test, color='blue', label='Actual')\n",
    "plt.plot(x_test, y_pred, color='red', label='Regression Line')\n",
    "plt.xlabel('CGPA')\n",
    "plt.ylabel('Chance of Admit')\n",
    "plt.title('CGPA vs Chance of Admit')\n",
    "plt.legend()\n",
    "plt.show()"
   ]
  },
  {
   "cell_type": "markdown",
   "id": "6f59f6dd-35fc-4afb-9e18-13b7f230aa29",
   "metadata": {},
   "source": [
    "<!DOCTYPE html>\n",
    "<html lang=\"en\">\n",
    "<head>\n",
    "    <meta charset=\"UTF-8\">\n",
    "    <meta name=\"viewport\" content=\"width=device-width, initial-scale=1.0\">\n",
    "\n",
    "</head>\n",
    "<body>\n",
    "    <b><p>Result:</p></b>\n",
    "    <p>The implemention of the linear regression model for the given dataset and to demonstrate the \n",
    "performance analysis on regression techniques is executed successfully</p>\n",
    "</body>\n",
    "</html>"
   ]
  }
 ],
 "metadata": {
  "kernelspec": {
   "display_name": "anaconda-2024.02-py310",
   "language": "python",
   "name": "conda-env-anaconda-2024.02-py310-py"
  },
  "language_info": {
   "codemirror_mode": {
    "name": "ipython",
    "version": 3
   },
   "file_extension": ".py",
   "mimetype": "text/x-python",
   "name": "python",
   "nbconvert_exporter": "python",
   "pygments_lexer": "ipython3",
   "version": "3.10.14"
  }
 },
 "nbformat": 4,
 "nbformat_minor": 5
}
