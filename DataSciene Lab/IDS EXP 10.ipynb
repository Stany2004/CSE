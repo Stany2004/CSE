{
 "cells": [
  {
   "cell_type": "markdown",
   "id": "978b9e7c-2cb7-4a05-8e09-3d7c00b333e0",
   "metadata": {},
   "source": [
    "<h2>Experiment 10</h2>\n",
    "<h2>Date:15/10/2024</h2>\n",
    "<h2>URK22CS5090</h2>\n",
    "<center><h2>Design of Content-based Recommender System</h2></center>\n",
    "<h4>Aim:</h4\n",
    "<p>To demonstrate a content-based recommender systems for E-Commerce Item Recommendation System.</p>\n",
    "<h4>Description:</h4>\n",
    "A content-based recommender system suggests items to users based on the features of items they have interacted with in the past. It analyzes the content or characteristics of items and compares them to the user’s preferences or history. For example, in a Item recommendation system, if a user likes a item on Mobile phones, the system will recommend other items with similar content, such as related items. The key techniques used include feature extraction and similarity measures like cosine similarity."
   ]
  },
  {
   "cell_type": "code",
   "execution_count": 1,
   "id": "fa6021d8-1ec7-4e69-b23e-d5e6db0fb746",
   "metadata": {},
   "outputs": [
    {
     "name": "stdout",
     "output_type": "stream",
     "text": [
      "SetUp Complete\n"
     ]
    }
   ],
   "source": [
    "import pandas as pd\n",
    "from sklearn.feature_extraction.text import TfidfVectorizer\n",
    "from sklearn.metrics.pairwise import cosine_similarity\n",
    "\n",
    "print(\"SetUp Complete\")"
   ]
  },
  {
   "cell_type": "code",
   "execution_count": 2,
   "id": "f752726c-337c-4d02-8228-56e48aadcc71",
   "metadata": {},
   "outputs": [
    {
     "data": {
      "text/html": [
       "<div>\n",
       "<style scoped>\n",
       "    .dataframe tbody tr th:only-of-type {\n",
       "        vertical-align: middle;\n",
       "    }\n",
       "\n",
       "    .dataframe tbody tr th {\n",
       "        vertical-align: top;\n",
       "    }\n",
       "\n",
       "    .dataframe thead th {\n",
       "        text-align: right;\n",
       "    }\n",
       "</style>\n",
       "<table border=\"1\" class=\"dataframe\">\n",
       "  <thead>\n",
       "    <tr style=\"text-align: right;\">\n",
       "      <th></th>\n",
       "      <th>id</th>\n",
       "      <th>product</th>\n",
       "      <th>description</th>\n",
       "    </tr>\n",
       "  </thead>\n",
       "  <tbody>\n",
       "    <tr>\n",
       "      <th>0</th>\n",
       "      <td>1.0</td>\n",
       "      <td>Active classic boxers</td>\n",
       "      <td>There's a reason why our boxers are a cult fav...</td>\n",
       "    </tr>\n",
       "    <tr>\n",
       "      <th>1</th>\n",
       "      <td>2.0</td>\n",
       "      <td>Active sport boxer briefs</td>\n",
       "      <td>Skinning up Glory requires enough movement wit...</td>\n",
       "    </tr>\n",
       "    <tr>\n",
       "      <th>2</th>\n",
       "      <td>3.0</td>\n",
       "      <td>Active sport briefs</td>\n",
       "      <td>These superbreathable no-fly briefs are the mi...</td>\n",
       "    </tr>\n",
       "    <tr>\n",
       "      <th>3</th>\n",
       "      <td>4.0</td>\n",
       "      <td>Alpine guide pants</td>\n",
       "      <td>Skin in, climb ice, switch to rock, traverse a...</td>\n",
       "    </tr>\n",
       "    <tr>\n",
       "      <th>4</th>\n",
       "      <td>5.0</td>\n",
       "      <td>Alpine wind jkt</td>\n",
       "      <td>On high ridges, steep ice and anything alpine,...</td>\n",
       "    </tr>\n",
       "  </tbody>\n",
       "</table>\n",
       "</div>"
      ],
      "text/plain": [
       "    id                    product  \\\n",
       "0  1.0      Active classic boxers   \n",
       "1  2.0  Active sport boxer briefs   \n",
       "2  3.0        Active sport briefs   \n",
       "3  4.0         Alpine guide pants   \n",
       "4  5.0            Alpine wind jkt   \n",
       "\n",
       "                                         description  \n",
       "0  There's a reason why our boxers are a cult fav...  \n",
       "1  Skinning up Glory requires enough movement wit...  \n",
       "2  These superbreathable no-fly briefs are the mi...  \n",
       "3  Skin in, climb ice, switch to rock, traverse a...  \n",
       "4  On high ridges, steep ice and anything alpine,...  "
      ]
     },
     "execution_count": 2,
     "metadata": {},
     "output_type": "execute_result"
    }
   ],
   "source": [
    "#URK22CS5090\n",
    "df = pd.read_csv('shop_details.csv')\n",
    "df.head()"
   ]
  },
  {
   "cell_type": "markdown",
   "id": "96f82b89-e360-4b3b-9067-23b699c0cbe7",
   "metadata": {},
   "source": [
    "<!DOCTYPE html>\n",
    "<html lang=\"en\">\n",
    "<head>\n",
    "    <meta charset=\"UTF-8\">\n",
    "    <meta name=\"viewport\" content=\"width=device-width, initial-scale=1.0\">\n",
    "    \n",
    "</head>\n",
    "<body>\n",
    "    <p><b>Develop an E-commerce item recommender system with content-based recommendation\n",
    "using the scikit-learn<br>\n",
    "a. Use the column: 'product'.<br>\n",
    "b. Remove the leading and trailing whitespaces in that column.</b></p>\n",
    "</body>\n",
    "</html>"
   ]
  },
  {
   "cell_type": "code",
   "execution_count": 5,
   "id": "835520c1-a215-4250-9da2-5c46da5ef15d",
   "metadata": {},
   "outputs": [],
   "source": [
    "#URK22CS5090\n",
    "df['product'] = df['product'].str.strip()"
   ]
  },
  {
   "cell_type": "markdown",
   "id": "d92e99a1-d741-4c4c-a96d-18fe0dbba7af",
   "metadata": {},
   "source": [
    "<!DOCTYPE html>\n",
    "<html lang=\"en\">\n",
    "<head>\n",
    "    <meta charset=\"UTF-8\">\n",
    "    <meta name=\"viewport\" content=\"width=device-width, initial-scale=1.0\">\n",
    "    \n",
    "</head>\n",
    "<body>\n",
    "    <p><b>c. Perform feature extraction using Term Frequency Inverse Document Frequency (TF-\n",
    "IDF).</b></p>\n",
    "</body>\n",
    "</html>"
   ]
  },
  {
   "cell_type": "code",
   "execution_count": 9,
   "id": "e1419bc3-75bc-4244-ab2c-35a1d548ee8e",
   "metadata": {},
   "outputs": [],
   "source": [
    "#URK22CS5090\n",
    "df = df.dropna(subset=['product'])\n",
    "tfidf_matrix = tfidf.fit_transform(df['product'])\n"
   ]
  },
  {
   "cell_type": "markdown",
   "id": "7d6a1fa2-c0c3-415b-afa2-7b7604fcdd8c",
   "metadata": {},
   "source": [
    "<!DOCTYPE html>\n",
    "<html lang=\"en\">\n",
    "<head>\n",
    "    <meta charset=\"UTF-8\">\n",
    "    <meta name=\"viewport\" content=\"width=device-width, initial-scale=1.0\">\n",
    "    \n",
    "</head>\n",
    "<body>\n",
    "    <p><b>d. Compute the cosine similarity.</b></p>\n",
    "</body>\n",
    "</html>"
   ]
  },
  {
   "cell_type": "code",
   "execution_count": 11,
   "id": "209a87d2-400e-462a-87cb-c316e31e5b37",
   "metadata": {},
   "outputs": [],
   "source": [
    "cosine_sim = cosine_similarity(tfidf_matrix, tfidf_matrix)"
   ]
  },
  {
   "cell_type": "code",
   "execution_count": 13,
   "id": "0c7bf2bd-63c7-47c2-b6f8-d1acb3619688",
   "metadata": {},
   "outputs": [],
   "source": [
    "#URK22CS5090\n",
    "def recommend_item(product, num_recommendations=5):\n",
    "    matches = df[df['product'].str.contains(product, case=False, na=False)]\n",
    "    if matches.empty:\n",
    "        return \"product not found.\", []\n",
    "    idx = matches.index[0]\n",
    "    sim_scores = list(enumerate(cosine_sim[idx]))\n",
    "    sim_scores = sorted(sim_scores, key=lambda x: x[1], reverse=True)\n",
    "    sim_scores = sim_scores[1:num_recommendations+1]\n",
    "    items_indices = [i[0] for i in sim_scores]\n",
    "    return df['product'].iloc[item_indices], [i[1] for i in sim_scores]"
   ]
  },
  {
   "cell_type": "markdown",
   "id": "6a022c56-f66d-4c35-b334-3cfa0cd75691",
   "metadata": {},
   "source": [
    "<!DOCTYPE html>\n",
    "<html lang=\"en\">\n",
    "<head>\n",
    "    <meta charset=\"UTF-8\">\n",
    "    <meta name=\"viewport\" content=\"width=device-width, initial-scale=1.0\">\n",
    "    \n",
    "</head>\n",
    "<body>\n",
    "    <p><b>e. Display the top 'n' suggestions with the similarity score for the given user input.</b></p>\n",
    "</body>\n",
    "</html>"
   ]
  },
  {
   "cell_type": "code",
   "execution_count": 15,
   "id": "effd30c5-0f70-4cab-8e9a-0ed186e9e21a",
   "metadata": {},
   "outputs": [
    {
     "name": "stdout",
     "output_type": "stream",
     "text": [
      "Recommendation 1: Active sport boxer briefs - Similarity Score: 0.8451704599427619\n",
      "Recommendation 2: Active briefs - Similarity Score: 0.7746313228927102\n",
      "Recommendation 3: Active briefs - Similarity Score: 0.7746313228927102\n",
      "Recommendation 4: Sport top - Similarity Score: 0.6324130877784631\n",
      "Recommendation 5: Active boxer briefs - Similarity Score: 0.60005368640651\n"
     ]
    }
   ],
   "source": [
    "#URK22CS5090\n",
    "product = 'Active sport briefs'\n",
    "num_recommendations = 5\n",
    "recommendations, similarity_scores = recommend_item(product, num_recommendations)\n",
    "if isinstance(recommendations, str):\n",
    "    print(recommendations)\n",
    "else:\n",
    "    for i in range(num_recommendations):\n",
    "        print(f\"Recommendation {i+1}: {recommendations.iloc[i]} - Similarity Score: {similarity_scores[i]}\")\n"
   ]
  },
  {
   "cell_type": "markdown",
   "id": "218a8956-69e8-4d7f-a69b-c1db51d9ab17",
   "metadata": {},
   "source": [
    "<h4>Result:</h4>\n",
    "Successfully demonstrated Content-based recommendation system for E-Commerce Item Recommendation System."
   ]
  }
 ],
 "metadata": {
  "kernelspec": {
   "display_name": "anaconda-2024.02-py310",
   "language": "python",
   "name": "conda-env-anaconda-2024.02-py310-py"
  },
  "language_info": {
   "codemirror_mode": {
    "name": "ipython",
    "version": 3
   },
   "file_extension": ".py",
   "mimetype": "text/x-python",
   "name": "python",
   "nbconvert_exporter": "python",
   "pygments_lexer": "ipython3",
   "version": "3.10.14"
  }
 },
 "nbformat": 4,
 "nbformat_minor": 5
}
