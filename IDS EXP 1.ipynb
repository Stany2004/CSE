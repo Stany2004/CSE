{
 "cells": [
  {
   "cell_type": "markdown",
   "id": "5d569b7b-b613-4766-9d95-82ba65bcf0d9",
   "metadata": {},
   "source": [
    "<!DOCTYPE html>\n",
    "<html lang=\"en\">\n",
    "<head>\n",
    "    <meta charset=\"UTF-8\">\n",
    "    <meta name=\"viewport\" content=\"width=device-width, initial-scale=1.0\">\n",
    "</head>\n",
    "<body>\n",
    "    <h2>EXP 1</h2>\n",
    "    <h2>Date:16/07/2024</h2>\n",
    "    <h2>Reg No:URK22CS5090</h2><br>\n",
    "    <center><h1>Working with Python Data Structures</h1></center>\n",
    "    <h4>Aim</h4>\n",
    "    <p>Write a python program to demonstrate the basics of dictionary, list, set, tuple, array and\n",
    "csv files for data science application.</p>\n",
    "    <h4>Description</h4>\n",
    "    <p><b>Lists:</b><br>\n",
    "\n",
    "Lists are mutable data types in Python. Lists is a 0-based index datatype meaning the index\n",
    "of the first element starts at 0. Lists are used to store multiple items in a single variable.\n",
    "Lists are one of the 4 data types present in Python\n",
    "\n",
    "<b>Dictionary:<b><br>\n",
    "\n",
    "Dictionaries are mutable data types in nature meaning they can be updated after they are\n",
    "created. Syntactically they are written in a key, value pair format inside curly braces.\n",
    "{Key1:Value1,Key2:Value2,Key3:Value3,Key4:Value4}\n",
    "Keys are always unique and there cannot be any duplicates. There is no index in the\n",
    "dictionary meaning they are not ordered. Key is the default iterator and is used to retrieve\n",
    "the value.\n",
    "\n",
    "<b>Tuple:</b><br>\n",
    "\n",
    "Tuples are the same as lists are with the exception that the data once entered into the tuple\n",
    "cannot be changed no matter what. The only exception is when the data inside the tuple is\n",
    "mutable, only then the tuple data can be changed\n",
    "Creating a Tuple\n",
    "Tuple is created by using parenthesis or using the tuple() function.\n",
    "my_tuple = (1, 2, 3) #create tuple\n",
    "print(my_tuple)\n",
    "Output:\n",
    "(1, 2, 3)\n",
    "\n",
    "<b>Sets:</b><br>\n",
    "    \n",
    "Sets are a collection of unordered elements that are unique. Meaning that even if the data is\n",
    "repeated more than one time, it would be entered into the set only once. It resembles the\n",
    "sets that you have learnt in arithmetic. The operations also are the same as is with the\n",
    "arithmetic sets.\n",
    "Creating a set\n",
    "Sets are created using the flower braces but instead of adding key-value pairs, values are\n",
    "passed into it.\n",
    "my_set = {1, 2, 3, 4, 5, 5, 5} #create set\n",
    "print(my_set)\n",
    "Output:\n",
    "{1, 2, 3, 4, 5}\n",
    "\n",
    "<b>CSV Files:</b><br>\n",
    "    \n",
    "CSV stands for “Comma Separated Values.” It is the simplest form of storing data in tabular\n",
    "form as plain text. It is important to know to work with CSV because we mostly rely on\n",
    "CSV data in our day-to-day lives as data scientists.</p>\n",
    "</body>\n",
    "</html>"
   ]
  },
  {
   "cell_type": "markdown",
   "id": "35f515e9-bd07-4e9b-a4a9-0c3a19d18c85",
   "metadata": {},
   "source": [
    "<!DOCTYPE html>\n",
    "<html lang=\"en\">\n",
    "<head>\n",
    "    <meta charset=\"UTF-8\">\n",
    "    <meta name=\"viewport\" content=\"width=device-width, initial-scale=1.0\">\n",
    "\n",
    "</head>\n",
    "<body>\n",
    "    <b><p>1. Create an empty dictionary. Fill the dictionary with prod_code and prod_name as pair\n",
    "by user input (Use prod_code as a key). Take one prod_code as input from the user and\n",
    "traverse through dictionary to find the corresponding prod_name and display the same.</p></b>\n",
    "</body>\n",
    "</html>"
   ]
  },
  {
   "cell_type": "code",
   "execution_count": 1,
   "id": "2507655a-cc21-4cd0-bbd8-ce5e71330787",
   "metadata": {},
   "outputs": [
    {
     "name": "stdin",
     "output_type": "stream",
     "text": [
      "Enter the number of products:  3\n",
      "Enter product code:  101\n",
      "Enter product name:  Acer\n",
      "Enter product code:  102\n",
      "Enter product name:  Asus\n",
      "Enter product code:  103\n",
      "Enter product name:  Dell\n"
     ]
    },
    {
     "name": "stdout",
     "output_type": "stream",
     "text": [
      "The product dictionary is: {'101': 'Acer', '102': 'Asus', '103': 'Dell'}\n"
     ]
    },
    {
     "name": "stdin",
     "output_type": "stream",
     "text": [
      "Enter the product code to search for:  102\n"
     ]
    },
    {
     "name": "stdout",
     "output_type": "stream",
     "text": [
      "The product name for code '102' is: Asus\n"
     ]
    }
   ],
   "source": [
    "dict = {}\n",
    "n = int(input(\"Enter the number of products: \"))\n",
    "for _ in range(n):\n",
    "    code = input(\"Enter product code: \")\n",
    "    name = input(\"Enter product name: \")\n",
    "    dict[code] = name\n",
    "print(\"The product dictionary is:\", dict)\n",
    "search_code = input(\"Enter the product code to search for: \")\n",
    "if search_code in dict:\n",
    "    print(f\"The product name for code '{search_code}' is: {dict[search_code]}\")\n",
    "else:\n",
    "    print(f\"No product found for code '{search_code}'\")\n",
    "\n"
   ]
  },
  {
   "cell_type": "markdown",
   "id": "d11c0e6b-e757-4d13-b825-fdbae060185d",
   "metadata": {},
   "source": [
    "<!DOCTYPE html>\n",
    "<html lang=\"en\">\n",
    "<head>\n",
    "    <meta charset=\"UTF-8\">\n",
    "    <meta name=\"viewport\" content=\"width=device-width, initial-scale=1.0\">\n",
    "\n",
    "</head>\n",
    "<body>\n",
    "    <b><p>2.Create an empty list. Fill the list with strings by getting user input. Find the list of words\n",
    "that are longer than n from a given list of words.<br>\n",
    "Sample List : [‘the’,’quick’,’brown’,’fox’]<br>\n",
    "n : 3<br>\n",
    "Expected Result : quick brown</p></b>\n",
    "</body>\n",
    "</html>"
   ]
  },
  {
   "cell_type": "code",
   "execution_count": 2,
   "id": "e46caa41-ba7c-4ec8-8ce8-6301421b40eb",
   "metadata": {},
   "outputs": [
    {
     "name": "stdin",
     "output_type": "stream",
     "text": [
      "Enter No of Items: 4\n",
      "Enter Value1: the\n",
      "Enter Value2: quick\n",
      "Enter Value3: brown\n",
      "Enter Value4: fox\n"
     ]
    },
    {
     "name": "stdout",
     "output_type": "stream",
     "text": [
      "['the', 'quick', 'brown', 'fox']\n",
      "3\n",
      "5\n",
      "5\n",
      "3\n"
     ]
    },
    {
     "name": "stdin",
     "output_type": "stream",
     "text": [
      "Enter number: 3\n"
     ]
    },
    {
     "name": "stdout",
     "output_type": "stream",
     "text": [
      "quickbrown"
     ]
    }
   ],
   "source": [
    "lst=[]\n",
    "n=int(input(\"Enter No of Items:\"))\n",
    "for i in range(n):\n",
    "    lst1=input(f\"Enter Value{i+1}:\")\n",
    "    lst.append(lst1)\n",
    "print(lst)\n",
    "for i in lst:\n",
    "    a=len(i)\n",
    "    print(a)\n",
    "l=int(input(\"Enter number:\"))\n",
    "for i in lst:   \n",
    "    if len(i)>l:\n",
    "        print(i,end=\"\")\n"
   ]
  },
  {
   "cell_type": "markdown",
   "id": "353bbc93-bf97-498f-9dbf-3eb92d4bd169",
   "metadata": {},
   "source": [
    "<!DOCTYPE html>\n",
    "<html lang=\"en\">\n",
    "<head>\n",
    "    <meta charset=\"UTF-8\">\n",
    "    <meta name=\"viewport\" content=\"width=device-width, initial-scale=1.0\">\n",
    "\n",
    "</head>\n",
    "<body>\n",
    "    <b><p>3.Create an empty set. Fill the set with values by getting user input. Check if a given\n",
    "value is present in a set or not.</p></b>\n",
    "</body>\n",
    "</html>"
   ]
  },
  {
   "cell_type": "code",
   "execution_count": 3,
   "id": "bb8a5a8a-d64c-484f-8461-50531d83ddbb",
   "metadata": {},
   "outputs": [
    {
     "name": "stdin",
     "output_type": "stream",
     "text": [
      "Enter the no of values: 4\n",
      "Enter Value1:  Audi\n",
      "Enter Value2:  Benz\n",
      "Enter Value3:  Toyota\n",
      "Enter Value4:  BMW\n"
     ]
    },
    {
     "name": "stdout",
     "output_type": "stream",
     "text": [
      "{'Toyota', 'BMW', 'Audi', 'Benz'}\n"
     ]
    },
    {
     "name": "stdin",
     "output_type": "stream",
     "text": [
      "Enter the value to search: Audi\n"
     ]
    },
    {
     "name": "stdout",
     "output_type": "stream",
     "text": [
      "Audi is present in the set\n"
     ]
    }
   ],
   "source": [
    "set1=set()\n",
    "n=int(input(\"Enter the no of values:\"))\n",
    "for i in range(n):\n",
    "    s=input(f\"Enter Value{i+1}: \")\n",
    "    set1.add(s)\n",
    "print(set1)\n",
    "\n",
    "search=input(\"Enter the value to search:\")\n",
    "if search in set1:\n",
    "    print(search,\"is present in the set\")\n",
    "else:\n",
    "    print(\"Not present in set1\")\n",
    "\n"
   ]
  },
  {
   "cell_type": "markdown",
   "id": "479845bb-afa3-4106-a982-a997866c3825",
   "metadata": {},
   "source": [
    "<!DOCTYPE html>\n",
    "<html lang=\"en\">\n",
    "<head>\n",
    "    <meta charset=\"UTF-8\">\n",
    "    <meta name=\"viewport\" content=\"width=device-width, initial-scale=1.0\">\n",
    "\n",
    "</head>\n",
    "<body>\n",
    "    <b><p>4.Create an empty tuple. Populate the tuple with values by getting user input. Count the\n",
    "occurrence of a given input number in the tuple.</p></b>\n",
    "</body>\n",
    "</html>"
   ]
  },
  {
   "cell_type": "code",
   "execution_count": 4,
   "id": "70c9efc7-fa56-4626-9fb9-940aef766ba0",
   "metadata": {},
   "outputs": [
    {
     "name": "stdin",
     "output_type": "stream",
     "text": [
      "Enter the number of inputs:  5\n",
      "Enter value 1:  50\n",
      "Enter value 2:  60\n",
      "Enter value 3:  10\n",
      "Enter value 4:  70\n",
      "Enter value 5:  50\n"
     ]
    },
    {
     "name": "stdout",
     "output_type": "stream",
     "text": [
      "('50', '60', '10', '70', '50')\n"
     ]
    },
    {
     "name": "stdin",
     "output_type": "stream",
     "text": [
      "Enter the value to count:  50\n"
     ]
    },
    {
     "name": "stdout",
     "output_type": "stream",
     "text": [
      "2\n"
     ]
    }
   ],
   "source": [
    "t = ()\n",
    "n = int(input(\"Enter the number of inputs: \"))\n",
    "for i in range(n):\n",
    "    t1 = input(f\"Enter value {i+1}: \")\n",
    "    t += (t1,)\n",
    "print(t)\n",
    "c = input(\"Enter the value to count: \")\n",
    "print(t.count(c))\n"
   ]
  },
  {
   "cell_type": "markdown",
   "id": "5dc36a3a-0eec-4694-a41a-308635bdf928",
   "metadata": {},
   "source": [
    "<!DOCTYPE html>\n",
    "<html lang=\"en\">\n",
    "<head>\n",
    "    <meta charset=\"UTF-8\">\n",
    "    <meta name=\"viewport\" content=\"width=device-width, initial-scale=1.0\">\n",
    "\n",
    "</head>\n",
    "<body>\n",
    "    <b><p>5.Create a 2D array and perform matrix subtraction using numpy.</p></b>\n",
    "</body>\n",
    "</html>"
   ]
  },
  {
   "cell_type": "code",
   "execution_count": 5,
   "id": "e0501482-add1-4cca-808a-757d4e64aa18",
   "metadata": {},
   "outputs": [
    {
     "name": "stdout",
     "output_type": "stream",
     "text": [
      "Matrix 1: [[1 2 3]\n",
      " [4 5 6]\n",
      " [7 8 9]]\n",
      "Matrix 2: [[9 8 7]\n",
      " [6 5 4]\n",
      " [3 2 1]]\n",
      "Result of Matrix Subtraction:\n",
      "[[-8 -6 -4]\n",
      " [-2  0  2]\n",
      " [ 4  6  8]]\n"
     ]
    }
   ],
   "source": [
    "import numpy as np\n",
    "\n",
    "m1 = np.array([[1, 2, 3], [4, 5, 6], [7, 8, 9]])\n",
    "m2 = np.array([[9, 8, 7], [6, 5, 4], [3, 2, 1]])\n",
    "result = m1 - m2\n",
    "print(\"Matrix 1:\",m1)\n",
    "print(\"Matrix 2:\",m2)\n",
    "print(\"Result of Matrix Subtraction:\")\n",
    "print(result)"
   ]
  },
  {
   "cell_type": "markdown",
   "id": "d049c850-4133-417c-a7af-8a70b2af24c4",
   "metadata": {},
   "source": [
    "<!DOCTYPE html>\n",
    "<html lang=\"en\">\n",
    "<head>\n",
    "    <meta charset=\"UTF-8\">\n",
    "    <meta name=\"viewport\" content=\"width=device-width, initial-scale=1.0\">\n",
    "\n",
    "</head>\n",
    "<body>\n",
    "    <b><p>6.Create a 2D array using numpy and find the maximum element in the matrix.</p></b>\n",
    "</body>\n",
    "</html>"
   ]
  },
  {
   "cell_type": "code",
   "execution_count": 6,
   "id": "126bfe4e-0944-4fff-ae2f-f3b6217f10b9",
   "metadata": {},
   "outputs": [
    {
     "name": "stdout",
     "output_type": "stream",
     "text": [
      "Matrix 1:\n",
      "[[ 1  2  3]\n",
      " [ 4  5  6]\n",
      " [ 7 25  9]]\n",
      "25\n"
     ]
    }
   ],
   "source": [
    "import numpy as np\n",
    "\n",
    "m1 = np.array([[1, 2, 3], [4, 5, 6], [7, 25, 9]])\n",
    "print(\"Matrix 1:\")\n",
    "print(m1)\n",
    "data=np.max(m1)\n",
    "print(data)"
   ]
  },
  {
   "cell_type": "markdown",
   "id": "a9b328ce-a038-4754-9848-6ba222e5b1fc",
   "metadata": {},
   "source": [
    "<!DOCTYPE html>\n",
    "<html lang=\"en\">\n",
    "<head>\n",
    "    <meta charset=\"UTF-8\">\n",
    "    <meta name=\"viewport\" content=\"width=device-width, initial-scale=1.0\">\n",
    "\n",
    "</head>\n",
    "<body>\n",
    "    <b><p>7.Download the dataset from https://www.kaggle.com/datasets/varshamannem/toyato.<br>\n",
    "Read the Toyota.csv file and display the basic details.<br>\n",
    "a. Display the top 10 rows<br>\n",
    "b. Display the last 5 rows<br>\n",
    "c. Display row and column details<br.\n",
    "d. Display size, shape, dimension and information summary</p></b>\n",
    "</body>\n",
    "</html>"
   ]
  },
  {
   "cell_type": "code",
   "execution_count": 7,
   "id": "17530afc-e814-4b8c-9da6-47c8867b13dd",
   "metadata": {},
   "outputs": [
    {
     "name": "stdout",
     "output_type": "stream",
     "text": [
      "Top 10 rows:\n",
      "  fEducation  JoiningYear       City  PaymentTier  Age  Gender EverBenched  \\\n",
      "0  Bachelors         2017  Bangalore            3   34    Male          No   \n",
      "1  Bachelors         2013       Pune            1   28  Female          No   \n",
      "2  Bachelors         2014  New Delhi            3   38  Female          No   \n",
      "3    Masters         2016  Bangalore            3   27    Male          No   \n",
      "4    Masters         2017       Pune            3   24    Male         Yes   \n",
      "5  Bachelors         2016  Bangalore            3   22    Male          No   \n",
      "6  Bachelors         2015  New Delhi            3   38    Male          No   \n",
      "7  Bachelors         2016  Bangalore            3   34  Female          No   \n",
      "8  Bachelors         2016       Pune            3   23    Male          No   \n",
      "9    Masters         2017  New Delhi            2   37    Male          No   \n",
      "\n",
      "   ExperienceInCurrentDomain  LeaveOrNot  \n",
      "0                          0           0  \n",
      "1                          3           1  \n",
      "2                          2           0  \n",
      "3                          5           1  \n",
      "4                          2           1  \n",
      "5                          0           0  \n",
      "6                          0           0  \n",
      "7                          2           1  \n",
      "8                          1           0  \n",
      "9                          2           0  \n",
      "Last 5 rows:      fEducation  JoiningYear       City  PaymentTier  Age  Gender EverBenched  \\\n",
      "4648  Bachelors         2013  Bangalore            3   26  Female          No   \n",
      "4649    Masters         2013       Pune            2   37    Male          No   \n",
      "4650    Masters         2018  New Delhi            3   27    Male          No   \n",
      "4651  Bachelors         2012  Bangalore            3   30    Male         Yes   \n",
      "4652  Bachelors         2015  Bangalore            3   33    Male         Yes   \n",
      "\n",
      "      ExperienceInCurrentDomain  LeaveOrNot  \n",
      "4648                          4           0  \n",
      "4649                          2           1  \n",
      "4650                          5           1  \n",
      "4651                          2           0  \n",
      "4652                          4           0  \n",
      "\n",
      "Row and Column Details:\n",
      "Number of rows: 4653\n",
      "Number of columns: 9\n",
      "\n",
      "Size, Shape, Dimension, and Information Summary:\n",
      "Size: 41877\n",
      "Shape: (4653, 9)\n",
      "Dimension: 2\n",
      "<class 'pandas.core.frame.DataFrame'>\n",
      "RangeIndex: 4653 entries, 0 to 4652\n",
      "Data columns (total 9 columns):\n",
      " #   Column                     Non-Null Count  Dtype \n",
      "---  ------                     --------------  ----- \n",
      " 0   fEducation                 4653 non-null   object\n",
      " 1   JoiningYear                4653 non-null   int64 \n",
      " 2   City                       4653 non-null   object\n",
      " 3   PaymentTier                4653 non-null   int64 \n",
      " 4   Age                        4653 non-null   int64 \n",
      " 5   Gender                     4653 non-null   object\n",
      " 6   EverBenched                4653 non-null   object\n",
      " 7   ExperienceInCurrentDomain  4653 non-null   int64 \n",
      " 8   LeaveOrNot                 4653 non-null   int64 \n",
      "dtypes: int64(5), object(4)\n",
      "memory usage: 327.3+ KB\n",
      "None\n"
     ]
    }
   ],
   "source": [
    "import pandas as pd\n",
    "df = pd.read_csv(\"Employee.csv\")\n",
    "print(\"Top 10 rows:\")\n",
    "print(df.head(10))\n",
    "print(\"Last 5 rows:\",df.tail(5))\n",
    "\n",
    "print(\"\\nRow and Column Details:\")\n",
    "print(f'Number of rows: {df.shape[0]}')\n",
    "print(f'Number of columns: {df.shape[1]}')\n",
    "print(\"\\nSize, Shape, Dimension, and Information Summary:\")\n",
    "print(f'Size: {df.size}')\n",
    "print(f'Shape: {df.shape}')\n",
    "print(f'Dimension: {df.ndim}')\n",
    "print(df.info())\n",
    "\n"
   ]
  },
  {
   "cell_type": "markdown",
   "id": "a26f2c68-d67a-411a-a518-a74d3f49b501",
   "metadata": {},
   "source": [
    "<!DOCTYPE html>\n",
    "<html lang=\"en\">\n",
    "<head>\n",
    "    <meta charset=\"UTF-8\">\n",
    "    <meta name=\"viewport\" content=\"width=device-width, initial-scale=1.0\">\n",
    "\n",
    "</head>\n",
    "<body>\n",
    "    <h2>Result:</h2>\n",
    "    <p>Operations Using Set,Tuples,list,Dictionary and Acessing the CSV File have been executed Sucessfully</p>\n",
    "</body>\n",
    "</html>"
   ]
  }
 ],
 "metadata": {
  "kernelspec": {
   "display_name": "anaconda-panel-2023.05-py310",
   "language": "python",
   "name": "conda-env-anaconda-panel-2023.05-py310-py"
  },
  "language_info": {
   "codemirror_mode": {
    "name": "ipython",
    "version": 3
   },
   "file_extension": ".py",
   "mimetype": "text/x-python",
   "name": "python",
   "nbconvert_exporter": "python",
   "pygments_lexer": "ipython3",
   "version": "3.11.5"
  }
 },
 "nbformat": 4,
 "nbformat_minor": 5
}
