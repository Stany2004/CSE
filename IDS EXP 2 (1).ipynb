{
 "cells": [
  {
   "cell_type": "markdown",
   "id": "6c59fdf5-9a15-46a2-9a7c-55584e200764",
   "metadata": {},
   "source": [
    "<!DOCTYPE html>\n",
    "<html lang=\"en\">\n",
    "<head>\n",
    "    <meta charset=\"UTF-8\">\n",
    "    <meta name=\"viewport\" content=\"width=device-width, initial-scale=1.0\">\n",
    "</head>\n",
    "<body>\n",
    "    <h2>EXP 2</h2>\n",
    "    <h2>Date:23/07/2024</h2>\n",
    "    <h2>Reg No:URK22CS5090</h2><br>\n",
    "    <center><h1>Working with Data using Pandas</h1></center>\n",
    "    <h4>Aim</h4>\n",
    "    <p>Write a python program to work with data such as selection, filtering, filtering missing\n",
    "values, deletion, sorting and grouping using Pandas for data science application.</p>\n",
    "    <h4>Description</h4>\n",
    "    <p>Python Pandas is defined as an open-source library that provides high-performance datamanipulation in Python. Started by Wes McKinney in 2008 out of a need for a powerful and\n",
    "flexible quantitative analysis tool, panda has grown into one of the most popular Pythonlibraries. Pandas is built on top of the Numpy package, means Numpy is required for\n",
    "operating the Pandas.\n",
    "\n",
    "<b>Key Features of Pandas:</b><br>\n",
    "\n",
    "It has a fast and efficient DataFrame object with the default and customized indexing.\n",
    "Used for reshaping and pivoting of the data sets.\n",
    "Group by data for aggregations and transformations.\n",
    "It is used for data alignment and integration of the missing data.\n",
    "Provide the functionality of Time Series.\n",
    "Process a variety of data sets in different formats like matrix data, tabular\n",
    "heterogeneous, time series.\n",
    "Handle multiple operations of the data sets such as subsetting, slicing, filtering,\n",
    "groupBy, re-ordering, and re-shaping.\n",
    "It integrates with the other libraries such as SciPy, and scikit-learn.\n",
    "Python Pandas Data Structure\n",
    "The Pandas provides two data structures for processing the data, i.e., Series and\n",
    "DataFrame.</p>\n",
    "</body>\n",
    "</html>"
   ]
  },
  {
   "cell_type": "code",
   "execution_count": 9,
   "id": "6566a1a8-33ed-4bf6-b4d5-d452abb22639",
   "metadata": {},
   "outputs": [],
   "source": [
    "import pandas as pd\n",
    "import numpy as np\n",
    "df=pd.read_csv(\"Employees 2.csv\")"
   ]
  },
  {
   "cell_type": "markdown",
   "id": "6a9e1752-268d-41e5-8b33-ac2a974b0ffa",
   "metadata": {},
   "source": [
    "<!DOCTYPE html>\n",
    "<html lang=\"en\">\n",
    "<head>\n",
    "    <meta charset=\"UTF-8\">\n",
    "    <meta name=\"viewport\" content=\"width=device-width, initial-scale=1.0\">\n",
    "\n",
    "</head>\n",
    "<body>\n",
    "    <h2>Questions</h2>\n",
    "    <b><p>1.Display the columns that have null and its count</p></b>\n",
    "</body>\n",
    "</html>"
   ]
  },
  {
   "cell_type": "code",
   "execution_count": 10,
   "id": "53190b43-fbbb-4e84-9c87-44dec8626ea6",
   "metadata": {},
   "outputs": [
    {
     "name": "stdout",
     "output_type": "stream",
     "text": [
      "First_Name            69\n",
      "Gender               148\n",
      "Salary                 2\n",
      "Bonus                  3\n",
      "Senior_Management     68\n",
      "Age                  192\n",
      "dtype: int64\n"
     ]
    }
   ],
   "source": [
    "null_counts = df.isnull().sum()\n",
    "null_columns = null_counts[null_counts > 0]\n",
    "print(null_columns)"
   ]
  },
  {
   "cell_type": "markdown",
   "id": "d392496f-143e-4337-945a-cc2eb1cd6b89",
   "metadata": {},
   "source": [
    "<!DOCTYPE html>\n",
    "<html lang=\"en\">\n",
    "<head>\n",
    "    <meta charset=\"UTF-8\">\n",
    "    <meta name=\"viewport\" content=\"width=device-width, initial-scale=1.0\">\n",
    "\n",
    "</head>\n",
    "<body>\n",
    "    <b><p>2.Display the statistical description of the numerical and non-numerical columns</p></b>\n",
    "</body>\n",
    "</html>"
   ]
  },
  {
   "cell_type": "code",
   "execution_count": 11,
   "id": "03d8015a-8cca-43a1-9f47-16f713f77216",
   "metadata": {},
   "outputs": [
    {
     "name": "stdout",
     "output_type": "stream",
     "text": [
      "              Age\n",
      "count  808.000000\n",
      "mean    29.818280\n",
      "std     14.562117\n",
      "min      0.420000\n",
      "25%     20.875000\n",
      "50%     28.000000\n",
      "75%     39.000000\n",
      "max     80.000000\n",
      "       First_Name  Gender  Salary   Bonus Senior_Management             Team\n",
      "count         931     852     998     997               932             1000\n",
      "unique        201       3     993     968                 4               10\n",
      "top       Marilyn  Female  121160  12.182              TRUE  Client Services\n",
      "freq           11     428       2       3               467              111\n"
     ]
    }
   ],
   "source": [
    "numerical_description = df.describe()\n",
    "non_numerical_description = df.describe(include=[object])\n",
    "print(numerical_description)\n",
    "print(non_numerical_description)"
   ]
  },
  {
   "cell_type": "markdown",
   "id": "a9d9f0d5-90aa-453f-823f-e73aa8756fec",
   "metadata": {},
   "source": [
    "<!DOCTYPE html>\n",
    "<html lang=\"en\">\n",
    "<head>\n",
    "    <meta charset=\"UTF-8\">\n",
    "    <meta name=\"viewport\" content=\"width=device-width, initial-scale=1.0\">\n",
    "\n",
    "</head>\n",
    "<body>\n",
    "    <b><p>3.Display the rows that ‘Team’ column value is Marketing and observe the count</p></b>\n",
    "</body>\n",
    "</html>"
   ]
  },
  {
   "cell_type": "code",
   "execution_count": 12,
   "id": "a412076b-486c-4c11-82ef-14728c7667df",
   "metadata": {},
   "outputs": [
    {
     "name": "stdout",
     "output_type": "stream",
     "text": [
      "    First_Name  Gender  Salary   Bonus Senior_Management       Team   Age\n",
      "0      Douglas    Male   97308   6.945              TRUE  Marketing  22.0\n",
      "1       Thomas    Male   61933     NaN              TRUE  Marketing  38.0\n",
      "21     Matthew    Male  100612  13.645             FALSE  Marketing  34.0\n",
      "26       Craig    Male   37598   7.757              TRUE  Marketing   NaN\n",
      "43     Marilyn  Female   73524   5.207              TRUE  Marketing   3.0\n",
      "..         ...     ...     ...     ...               ...        ...   ...\n",
      "942       Lori  Female   75498   6.537              TRUE  Marketing  44.0\n",
      "947        NaN    Male  107351   5.329               NaN  Marketing   NaN\n",
      "986      Donna  Female   82871  17.999             FALSE  Marketing  44.0\n",
      "991       Rose  Female  134505  11.051              TRUE  Marketing   NaN\n",
      "994     George    Male   98874   4.479              TRUE  Marketing  48.0\n",
      "\n",
      "[105 rows x 7 columns]\n",
      "Count: 105\n"
     ]
    }
   ],
   "source": [
    "marketing_team = df[df['Team'] == 'Marketing']\n",
    "print(marketing_team)\n",
    "print(\"Count:\", marketing_team.shape[0])"
   ]
  },
  {
   "cell_type": "markdown",
   "id": "1b67ca5d-4e81-463d-8e66-51c3a5c2a6a4",
   "metadata": {},
   "source": [
    "<!DOCTYPE html>\n",
    "<html lang=\"en\">\n",
    "<head>\n",
    "    <meta charset=\"UTF-8\">\n",
    "    <meta name=\"viewport\" content=\"width=device-width, initial-scale=1.0\">\n",
    "\n",
    "</head>\n",
    "<body>\n",
    "    <b><p>4.Display the First Name and Team of first 25 rows with ‘Senior_Management’ column\n",
    "is TRUE</p></b>\n",
    "</body>\n",
    "</html>"
   ]
  },
  {
   "cell_type": "code",
   "execution_count": 13,
   "id": "508f49cc-739a-4149-9cc4-802b97f61dee",
   "metadata": {},
   "outputs": [
    {
     "name": "stdout",
     "output_type": "stream",
     "text": [
      "Empty DataFrame\n",
      "Columns: [First_Name, Team]\n",
      "Index: []\n"
     ]
    }
   ],
   "source": [
    "senior_management = df[df['Senior_Management'] == True][['First_Name', 'Team']].head(25)\n",
    "print(senior_management)\n"
   ]
  },
  {
   "cell_type": "markdown",
   "id": "710d92bc-887a-4b5a-8103-9148ac799df9",
   "metadata": {},
   "source": [
    "<!DOCTYPE html>\n",
    "<html lang=\"en\">\n",
    "<head>\n",
    "    <meta charset=\"UTF-8\">\n",
    "    <meta name=\"viewport\" content=\"width=device-width, initial-scale=1.0\">\n",
    "\n",
    "</head>\n",
    "<body>\n",
    "    <b><p>5.Display the rows that Salary>10000 and Gender status is Male</p></b>\n",
    "</body>\n",
    "</html>"
   ]
  },
  {
   "cell_type": "code",
   "execution_count": 14,
   "id": "6d6238fa-548d-4aa6-9c59-f1cebbe19f1d",
   "metadata": {},
   "outputs": [
    {
     "name": "stdout",
     "output_type": "stream",
     "text": [
      "    First_Name Gender    Salary   Bonus Senior_Management  \\\n",
      "0      Douglas   Male   97308.0   6.945              TRUE   \n",
      "1       Thomas   Male   61933.0     NaN              TRUE   \n",
      "4        Larry   Male  101004.0   1.389              TRUE   \n",
      "12     Brandon   Male  112807.0  17.492              TRUE   \n",
      "13        Gary   Male  109831.0   5.831             FALSE   \n",
      "..         ...    ...       ...     ...               ...   \n",
      "994     George   Male   98874.0   4.479              TRUE   \n",
      "996    Phillip   Male   42392.0  19.675             FALSE   \n",
      "997    Russell   Male   96914.0   1.421             FALSE   \n",
      "998      Larry   Male   60500.0  11.985             FALSE   \n",
      "999     Albert   Male  129949.0  10.169              TRUE   \n",
      "\n",
      "                     Team   Age  \n",
      "0               Marketing  22.0  \n",
      "1               Marketing  38.0  \n",
      "4         Client Services  35.0  \n",
      "12        Human Resources  20.0  \n",
      "13                  Sales  39.0  \n",
      "..                    ...   ...  \n",
      "994             Marketing  48.0  \n",
      "996               Finance  24.0  \n",
      "997               Product  42.0  \n",
      "998  Business Development  27.0  \n",
      "999                 Sales  31.0  \n",
      "\n",
      "[421 rows x 7 columns]\n"
     ]
    }
   ],
   "source": [
    "df['Salary'] = pd.to_numeric(df['Salary'], errors='coerce')\n",
    "high_salary_males = df[(df['Salary'] > 10000) & (df['Gender'] == 'Male')]\n",
    "print(high_salary_males)\n",
    "\n"
   ]
  },
  {
   "cell_type": "markdown",
   "id": "a93dc944-c782-4ffe-bcf6-3fcb01a5bc4b",
   "metadata": {},
   "source": [
    "<!DOCTYPE html>\n",
    "<html lang=\"en\">\n",
    "<head>\n",
    "    <meta charset=\"UTF-8\">\n",
    "    <meta name=\"viewport\" content=\"width=device-width, initial-scale=1.0\">\n",
    "\n",
    "</head>\n",
    "<body>\n",
    "    <b><p>6.Display the top 10 rows of the ‘First_Name’ column with NAN value</p></b>\n",
    "</body>\n",
    "</html>"
   ]
  },
  {
   "cell_type": "code",
   "execution_count": 15,
   "id": "64520985-eddc-47cf-b189-a6430098cecc",
   "metadata": {},
   "outputs": [
    {
     "name": "stdout",
     "output_type": "stream",
     "text": [
      "    First_Name  Gender    Salary   Bonus Senior_Management             Team  \\\n",
      "7          NaN  Female   45906.0  11.598               NaN          Finance   \n",
      "23         NaN    Male  125792.0   5.042               NaN  Client Services   \n",
      "25         NaN    Male   37076.0  18.576               NaN  Client Services   \n",
      "32         NaN    Male  122340.0   6.417               NaN          Product   \n",
      "39         NaN    Male  122173.0   7.797               NaN  Client Services   \n",
      "51         NaN     NaN   41126.0  14.009               NaN            Sales   \n",
      "62         NaN  Female   58112.0  19.414               NaN        Marketing   \n",
      "79         NaN  Female  115814.0    4.99             FALSE          Product   \n",
      "116        NaN    Male   76189.0  18.988               NaN            Legal   \n",
      "139        NaN  Female  132373.0  10.527               NaN      Engineering   \n",
      "\n",
      "      Age  \n",
      "7     2.0  \n",
      "23   28.0  \n",
      "25   38.0  \n",
      "32    NaN  \n",
      "39   14.0  \n",
      "51   21.0  \n",
      "62   45.0  \n",
      "79   30.0  \n",
      "116  70.5  \n",
      "139  24.0  \n"
     ]
    }
   ],
   "source": [
    "first_name_nan = df[df['First_Name'].isnull()].head(10)\n",
    "print(first_name_nan)\n"
   ]
  },
  {
   "cell_type": "markdown",
   "id": "32b59723-8c2a-40f0-a0b3-0c927a308abd",
   "metadata": {},
   "source": [
    "\n",
    "<!DOCTYPE html>\n",
    "<html lang=\"en\">\n",
    "<head>\n",
    "    <meta charset=\"UTF-8\">\n",
    "    <meta name=\"viewport\" content=\"width=device-width, initial-scale=1.0\">\n",
    "\n",
    "</head>\n",
    "<body>\n",
    "    <b><p>7.Display the max value in ‘Age’, min value in ‘Age’, and mean value in ‘Age’</p></b>\n",
    "</body>\n",
    "</html>"
   ]
  },
  {
   "cell_type": "code",
   "execution_count": 16,
   "id": "ac0cb2ec-fc10-4bba-873e-744a4820c288",
   "metadata": {},
   "outputs": [
    {
     "name": "stdout",
     "output_type": "stream",
     "text": [
      "Max Age: 80.0, Min Age: 0.42, Mean Age: 29.818279702970294\n"
     ]
    }
   ],
   "source": [
    "max_age = df['Age'].max()\n",
    "min_age = df['Age'].min()\n",
    "mean_age = df['Age'].mean()\n",
    "print(f\"Max Age: {max_age}, Min Age: {min_age}, Mean Age: {mean_age}\")\n"
   ]
  },
  {
   "cell_type": "markdown",
   "id": "3d52629f-bd64-4ed6-93dc-1792c4984b82",
   "metadata": {},
   "source": [
    "\n",
    "<!DOCTYPE html>\n",
    "<html lang=\"en\">\n",
    "<head>\n",
    "    <meta charset=\"UTF-8\">\n",
    "    <meta name=\"viewport\" content=\"width=device-width, initial-scale=1.0\">\n",
    "\n",
    "</head>\n",
    "<body>\n",
    "    <b><p>8.Display unique values in the Team column</p></b>\n",
    "</body>\n",
    "</html>"
   ]
  },
  {
   "cell_type": "code",
   "execution_count": 17,
   "id": "8d58c4a7-3c29-4b19-9470-2428537eba99",
   "metadata": {},
   "outputs": [
    {
     "name": "stdout",
     "output_type": "stream",
     "text": [
      "['Marketing' 'Finance' 'Client Services' 'Legal' 'Product' 'Engineering'\n",
      " 'Business Development' 'Human Resources' 'Sales' 'Distribution']\n"
     ]
    }
   ],
   "source": [
    "unique_teams = df['Team'].unique()\n",
    "print(unique_teams)\n"
   ]
  },
  {
   "cell_type": "markdown",
   "id": "58eea573-0d56-41fb-be17-cd29e9d4da87",
   "metadata": {},
   "source": [
    "\n",
    "<!DOCTYPE html>\n",
    "<html lang=\"en\">\n",
    "<head>\n",
    "    <meta charset=\"UTF-8\">\n",
    "    <meta name=\"viewport\" content=\"width=device-width, initial-scale=1.0\">\n",
    "\n",
    "</head>\n",
    "<body>\n",
    "    <b><p>9.Update the data frame with new column ‘New_Age’. New_Age = Age + 10 and observe\n",
    "the size of the data frame</p></b>\n",
    "</body>\n",
    "</html>"
   ]
  },
  {
   "cell_type": "code",
   "execution_count": 18,
   "id": "0cbc9e59-bc6b-4163-ba00-deeda7185f34",
   "metadata": {},
   "outputs": [
    {
     "name": "stdout",
     "output_type": "stream",
     "text": [
      "(1000, 8)\n"
     ]
    }
   ],
   "source": [
    "df['New_Age'] = df['Age'] + 10\n",
    "print(df.shape)\n"
   ]
  },
  {
   "cell_type": "markdown",
   "id": "bb40aa91-74dc-4c17-931b-4891c0f2e8db",
   "metadata": {},
   "source": [
    "<!DOCTYPE html>\n",
    "<html lang=\"en\">\n",
    "<head>\n",
    "    <meta charset=\"UTF-8\">\n",
    "    <meta name=\"viewport\" content=\"width=device-width, initial-scale=1.0\">\n",
    "\n",
    "</head>\n",
    "<body>\n",
    "    <b><p>10. Drop the New_Age column permanently and observe the size of the data frame</p></b>\n",
    "</body>\n",
    "</html>"
   ]
  },
  {
   "cell_type": "code",
   "execution_count": 19,
   "id": "fd609cde-1c87-4327-8c44-174ec01e3f00",
   "metadata": {},
   "outputs": [
    {
     "name": "stdout",
     "output_type": "stream",
     "text": [
      "(1000, 7)\n"
     ]
    }
   ],
   "source": [
    "df.drop(columns=['New_Age'], inplace=True)\n",
    "print(df.shape)\n"
   ]
  },
  {
   "cell_type": "markdown",
   "id": "7e162a82-6e02-4c1b-9e24-cbf6162027f9",
   "metadata": {},
   "source": [
    "<!DOCTYPE html>\n",
    "<html lang=\"en\">\n",
    "<head>\n",
    "    <meta charset=\"UTF-8\">\n",
    "    <meta name=\"viewport\" content=\"width=device-width, initial-scale=1.0\">\n",
    "\n",
    "</head>\n",
    "<body>\n",
    "    <b><p>11. Drop the rows with NAN and observe the size of the data frame</p></b>\n",
    "</body>\n",
    "</html>"
   ]
  },
  {
   "cell_type": "code",
   "execution_count": 20,
   "id": "58153195-2d04-47f8-8fe7-7b78319918d8",
   "metadata": {},
   "outputs": [
    {
     "name": "stdout",
     "output_type": "stream",
     "text": [
      "(635, 7)\n"
     ]
    }
   ],
   "source": [
    "df_dropped_nans = df.dropna()\n",
    "print(df_dropped_nans.shape)\n"
   ]
  },
  {
   "cell_type": "markdown",
   "id": "2a302f57-a3eb-4037-9433-9ad311f18a01",
   "metadata": {},
   "source": [
    "<!DOCTYPE html>\n",
    "<html lang=\"en\">\n",
    "<head>\n",
    "    <meta charset=\"UTF-8\">\n",
    "    <meta name=\"viewport\" content=\"width=device-width, initial-scale=1.0\">\n",
    "\n",
    "</head>\n",
    "<body>\n",
    "    <b><p>12. Append two new rows in the data frame and observe the size of the data frame</p></b>\n",
    "</body>\n",
    "</html>"
   ]
  },
  {
   "cell_type": "code",
   "execution_count": 21,
   "id": "8c932d16-209f-4618-8d3f-50951719b9a8",
   "metadata": {},
   "outputs": [
    {
     "name": "stdout",
     "output_type": "stream",
     "text": [
      "Original size of the DataFrame: (3, 7)\n",
      "New size of the DataFrame: (5, 7)\n",
      "  First_Name   Team  Age  Senior_Management  Salary  Gender  Bonus\n",
      "0       John  Sales   28              False    5000    Male    500\n",
      "1       Jane     HR   34               True    6000  Female    600\n",
      "2        Jim     IT   45              False    7000    Male    700\n",
      "3       New1  Team1   30              False    7000    Male   1000\n",
      "4       New2  Team2   40               True    8000  Female   2000\n"
     ]
    }
   ],
   "source": [
    "import pandas as pd\n",
    "df = pd.DataFrame({\n",
    "    'First_Name': ['John', 'Jane', 'Jim'],\n",
    "    'Team': ['Sales', 'HR', 'IT'],\n",
    "    'Age': [28, 34, 45],\n",
    "    'Senior_Management': [False, True, False],\n",
    "    'Salary': [5000, 6000, 7000],\n",
    "    'Gender': ['Male', 'Female', 'Male'],\n",
    "    'Bonus': [500, 600, 700]\n",
    "})\n",
    "print(\"Original size of the DataFrame:\", df.shape)\n",
    "new_rows = pd.DataFrame({\n",
    "    'First_Name': ['New1', 'New2'],\n",
    "    'Team': ['Team1', 'Team2'],\n",
    "    'Age': [30, 40],\n",
    "    'Senior_Management': [False, True],\n",
    "    'Salary': [7000, 8000],\n",
    "    'Gender': ['Male', 'Female'],\n",
    "    'Bonus': [1000, 2000]\n",
    "})\n",
    "df = pd.concat([df, new_rows], ignore_index=True)\n",
    "print(\"New size of the DataFrame:\", df.shape)\n",
    "print(df)\n"
   ]
  },
  {
   "cell_type": "markdown",
   "id": "112dadc5-58cf-4681-84e2-04bf95ec9c28",
   "metadata": {},
   "source": [
    "<!DOCTYPE html>\n",
    "<html lang=\"en\">\n",
    "<head>\n",
    "    <meta charset=\"UTF-8\">\n",
    "    <meta name=\"viewport\" content=\"width=device-width, initial-scale=1.0\">\n",
    "\n",
    "</head>\n",
    "<body>\n",
    "    <b><p>13. Fill the NAN values in ‘First Name’ column with ‘Samson’ and observe the null values\n",
    "count</p></b>\n",
    "</body>\n",
    "</html>"
   ]
  },
  {
   "cell_type": "code",
   "execution_count": 22,
   "id": "1c23f34c-1da8-49d5-885b-c2bb4bacbecf",
   "metadata": {},
   "outputs": [
    {
     "name": "stdout",
     "output_type": "stream",
     "text": [
      "Null values count before filling:\n",
      "First_Name           0\n",
      "Team                 0\n",
      "Age                  0\n",
      "Senior_Management    0\n",
      "Salary               0\n",
      "Gender               0\n",
      "Bonus                0\n",
      "dtype: int64\n",
      "Null values count after filling:\n",
      "First_Name           0\n",
      "Team                 0\n",
      "Age                  0\n",
      "Senior_Management    0\n",
      "Salary               0\n",
      "Gender               0\n",
      "Bonus                0\n",
      "dtype: int64\n"
     ]
    }
   ],
   "source": [
    "print(\"Null values count before filling:\")\n",
    "print(df.isnull().sum())\n",
    "df['First_Name'] = df['First_Name'].fillna('Samson')\n",
    "print(\"Null values count after filling:\")\n",
    "print(df.isnull().sum())\n"
   ]
  },
  {
   "cell_type": "markdown",
   "id": "07291f24-4cc9-4a57-b526-537e9b16290d",
   "metadata": {},
   "source": [
    "<!DOCTYPE html>\n",
    "<html lang=\"en\">\n",
    "<head>\n",
    "    <meta charset=\"UTF-8\">\n",
    "    <meta name=\"viewport\" content=\"width=device-width, initial-scale=1.0\">\n",
    "\n",
    "</head>\n",
    "<body>\n",
    "    <b><p>14. Group the rows based on the ‘Team’ column and observe how many are in each\n",
    "category</p></b>\n",
    "</body>\n",
    "</html>"
   ]
  },
  {
   "cell_type": "code",
   "execution_count": 23,
   "id": "d64124fe-376a-4650-97f9-711aea451dd4",
   "metadata": {},
   "outputs": [
    {
     "name": "stdout",
     "output_type": "stream",
     "text": [
      "Team\n",
      "HR       1\n",
      "IT       1\n",
      "Sales    1\n",
      "Team1    1\n",
      "Team2    1\n",
      "dtype: int64\n"
     ]
    }
   ],
   "source": [
    "team_groups = df.groupby('Team').size()\n",
    "print(team_groups)\n"
   ]
  },
  {
   "cell_type": "markdown",
   "id": "a5fd7bf7-d0c1-40a9-89c9-784978660c13",
   "metadata": {},
   "source": [
    "<!DOCTYPE html>\n",
    "<html lang=\"en\">\n",
    "<head>\n",
    "    <meta charset=\"UTF-8\">\n",
    "    <meta name=\"viewport\" content=\"width=device-width, initial-scale=1.0\">\n",
    "\n",
    "</head>\n",
    "<body>\n",
    "    <b><p>15. Sort the data frame based on ‘Bonus’</p></b>\n",
    "</body>\n",
    "</html>"
   ]
  },
  {
   "cell_type": "code",
   "execution_count": 24,
   "id": "a467eac8-abd8-475b-98e0-daefd7e7233b",
   "metadata": {},
   "outputs": [
    {
     "name": "stdout",
     "output_type": "stream",
     "text": [
      "  First_Name   Team  Age  Senior_Management  Salary  Gender  Bonus\n",
      "0       John  Sales   28              False    5000    Male    500\n",
      "1       Jane     HR   34               True    6000  Female    600\n",
      "2        Jim     IT   45              False    7000    Male    700\n",
      "3       New1  Team1   30              False    7000    Male   1000\n",
      "4       New2  Team2   40               True    8000  Female   2000\n"
     ]
    }
   ],
   "source": [
    "df_sorted_by_bonus = df.sort_values(by='Bonus')\n",
    "print(df_sorted_by_bonus)\n"
   ]
  },
  {
   "cell_type": "markdown",
   "id": "3b715f96-b921-414a-88b6-a532e0a570f4",
   "metadata": {},
   "source": [
    "<!DOCTYPE html>\n",
    "<html lang=\"en\">\n",
    "<head>\n",
    "    <meta charset=\"UTF-8\">\n",
    "    <meta name=\"viewport\" content=\"width=device-width, initial-scale=1.0\">\n",
    "\n",
    "</head>\n",
    "<body>\n",
    "    <h3>Result:</h3>\n",
    "    <p>Thus Working with Data using Pandas has been Executed Sucessfully</p>\n",
    "</body>\n",
    "</html>"
   ]
  }
 ],
 "metadata": {
  "kernelspec": {
   "display_name": "anaconda-2024.02-py310",
   "language": "python",
   "name": "conda-env-anaconda-2024.02-py310-py"
  },
  "language_info": {
   "codemirror_mode": {
    "name": "ipython",
    "version": 3
   },
   "file_extension": ".py",
   "mimetype": "text/x-python",
   "name": "python",
   "nbconvert_exporter": "python",
   "pygments_lexer": "ipython3",
   "version": "3.10.14"
  }
 },
 "nbformat": 4,
 "nbformat_minor": 5
}
