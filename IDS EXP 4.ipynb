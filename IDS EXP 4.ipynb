{
 "cells": [
  {
   "cell_type": "markdown",
   "id": "f949e931-ce2c-49d6-910c-39fa5af88725",
   "metadata": {},
   "source": [
    "<!DOCTYPE html>\n",
    "<html lang=\"en\">\n",
    "<head>\n",
    "    <meta charset=\"UTF-8\">\n",
    "    <meta name=\"viewport\" content=\"width=device-width, initial-scale=1.0\">\n",
    "</head>\n",
    "<body>\n",
    "    <h2>EXP 4</h2>\n",
    "    <h2>Date:06/08/2024</h2>\n",
    "    <h2>Reg No:URK22CS5090</h2><br>\n",
    "    <center><h1>Exploratory Data Analysis</h1></center>\n",
    "    <h4>Aim</h4>\n",
    "    <p>Write a python program to work with data such as selection, filtering, filtering missing\n",
    "values, deletion, sorting and grouping using Pandas for data science application.</p>\n",
    "    <h4>Description</h4>\n",
    "    <p>Exploratory Data Analysis (EDA) is an essential phase in the data analysis process focused on uncovering patterns, anomalies, and insights from a dataset through various techniques and visualizations. During EDA, tasks such as cleaning the data by removing irrelevant columns and duplicates, handling missing values, and renaming columns are performed to prepare the dataset for analysis. Descriptive statistics like mean, median, and standard deviation are calculated to understand the central tendencies and variability within the data. Identifying and addressing outliers using methods such as the Interquartile Range (IQR) or z-scores ensures that extreme values do not skew the results, enhancing the accuracy of the analysis.\n",
    "</body>\n",
    "</html></p>"
   ]
  },
  {
   "cell_type": "code",
   "execution_count": null,
   "id": "b1cfb49b-af26-478e-99d0-2976ce8a6af8",
   "metadata": {},
   "outputs": [],
   "source": [
    "import pandas as pd\n",
    "import numpy as np\n",
    "import seaborn as sns\n",
    "import scipy as sp\n",
    "\n",
    "df=pd.read_csv(\"iris_EDA.csv\")\n",
    "print(\"SetUp Complete\")"
   ]
  },
  {
   "cell_type": "markdown",
   "id": "2d81461c-6c00-4c3d-8d91-821c18df6a84",
   "metadata": {},
   "source": [
    "df.shape"
   ]
  },
  {
   "cell_type": "code",
   "execution_count": 4,
   "id": "b8fdc38c-95d7-45fd-887d-6bb438b365b5",
   "metadata": {},
   "outputs": [
    {
     "data": {
      "text/html": [
       "<div>\n",
       "<style scoped>\n",
       "    .dataframe tbody tr th:only-of-type {\n",
       "        vertical-align: middle;\n",
       "    }\n",
       "\n",
       "    .dataframe tbody tr th {\n",
       "        vertical-align: top;\n",
       "    }\n",
       "\n",
       "    .dataframe thead th {\n",
       "        text-align: right;\n",
       "    }\n",
       "</style>\n",
       "<table border=\"1\" class=\"dataframe\">\n",
       "  <thead>\n",
       "    <tr style=\"text-align: right;\">\n",
       "      <th></th>\n",
       "      <th>sepallength</th>\n",
       "      <th>sepalwidth</th>\n",
       "      <th>petallength</th>\n",
       "      <th>petalwidth</th>\n",
       "      <th>Score</th>\n",
       "    </tr>\n",
       "  </thead>\n",
       "  <tbody>\n",
       "    <tr>\n",
       "      <th>count</th>\n",
       "      <td>25.000000</td>\n",
       "      <td>25.000000</td>\n",
       "      <td>25.000000</td>\n",
       "      <td>24.000000</td>\n",
       "      <td>24.000000</td>\n",
       "    </tr>\n",
       "    <tr>\n",
       "      <th>mean</th>\n",
       "      <td>5.904000</td>\n",
       "      <td>3.056000</td>\n",
       "      <td>3.956000</td>\n",
       "      <td>1.216667</td>\n",
       "      <td>20.958333</td>\n",
       "    </tr>\n",
       "    <tr>\n",
       "      <th>std</th>\n",
       "      <td>0.967161</td>\n",
       "      <td>0.369775</td>\n",
       "      <td>1.908551</td>\n",
       "      <td>0.776092</td>\n",
       "      <td>5.606511</td>\n",
       "    </tr>\n",
       "    <tr>\n",
       "      <th>min</th>\n",
       "      <td>4.600000</td>\n",
       "      <td>2.300000</td>\n",
       "      <td>1.300000</td>\n",
       "      <td>0.200000</td>\n",
       "      <td>11.000000</td>\n",
       "    </tr>\n",
       "    <tr>\n",
       "      <th>25%</th>\n",
       "      <td>5.000000</td>\n",
       "      <td>2.900000</td>\n",
       "      <td>1.500000</td>\n",
       "      <td>0.275000</td>\n",
       "      <td>16.750000</td>\n",
       "    </tr>\n",
       "    <tr>\n",
       "      <th>50%</th>\n",
       "      <td>5.800000</td>\n",
       "      <td>3.000000</td>\n",
       "      <td>4.500000</td>\n",
       "      <td>1.450000</td>\n",
       "      <td>21.500000</td>\n",
       "    </tr>\n",
       "    <tr>\n",
       "      <th>75%</th>\n",
       "      <td>6.500000</td>\n",
       "      <td>3.300000</td>\n",
       "      <td>5.600000</td>\n",
       "      <td>1.800000</td>\n",
       "      <td>25.000000</td>\n",
       "    </tr>\n",
       "    <tr>\n",
       "      <th>max</th>\n",
       "      <td>7.600000</td>\n",
       "      <td>3.900000</td>\n",
       "      <td>6.600000</td>\n",
       "      <td>2.500000</td>\n",
       "      <td>30.000000</td>\n",
       "    </tr>\n",
       "  </tbody>\n",
       "</table>\n",
       "</div>"
      ],
      "text/plain": [
       "       sepallength  sepalwidth  petallength  petalwidth      Score\n",
       "count    25.000000   25.000000    25.000000   24.000000  24.000000\n",
       "mean      5.904000    3.056000     3.956000    1.216667  20.958333\n",
       "std       0.967161    0.369775     1.908551    0.776092   5.606511\n",
       "min       4.600000    2.300000     1.300000    0.200000  11.000000\n",
       "25%       5.000000    2.900000     1.500000    0.275000  16.750000\n",
       "50%       5.800000    3.000000     4.500000    1.450000  21.500000\n",
       "75%       6.500000    3.300000     5.600000    1.800000  25.000000\n",
       "max       7.600000    3.900000     6.600000    2.500000  30.000000"
      ]
     },
     "execution_count": 4,
     "metadata": {},
     "output_type": "execute_result"
    }
   ],
   "source": [
    "df.describe()"
   ]
  },
  {
   "cell_type": "code",
   "execution_count": 5,
   "id": "2bb9a073-bddc-426d-8a5b-78e0e76feebf",
   "metadata": {},
   "outputs": [
    {
     "name": "stdout",
     "output_type": "stream",
     "text": [
      "<class 'pandas.core.frame.DataFrame'>\n",
      "RangeIndex: 25 entries, 0 to 24\n",
      "Data columns (total 8 columns):\n",
      " #   Column       Non-Null Count  Dtype  \n",
      "---  ------       --------------  -----  \n",
      " 0   sepallength  25 non-null     float64\n",
      " 1   sepalwidth   25 non-null     float64\n",
      " 2   petallength  25 non-null     float64\n",
      " 3   petalwidth   24 non-null     float64\n",
      " 4   class        25 non-null     object \n",
      " 5   Name         25 non-null     object \n",
      " 6   Score        24 non-null     float64\n",
      " 7   Color        25 non-null     object \n",
      "dtypes: float64(5), object(3)\n",
      "memory usage: 1.7+ KB\n"
     ]
    }
   ],
   "source": [
    "df.info()"
   ]
  },
  {
   "cell_type": "markdown",
   "id": "e07a1a06-2760-4b76-ba7e-b45633e49ee9",
   "metadata": {},
   "source": [
    "<!DOCTYPE html>\n",
    "<html lang=\"en\">\n",
    "<head>\n",
    "    <meta charset=\"UTF-8\">\n",
    "    <meta name=\"viewport\" content=\"width=device-width, initial-scale=1.0\">\n",
    "    \n",
    "</head>\n",
    "<body>\n",
    "    <p><b>1. Remove the irrelevant column 'Color' and display top 5 rows (use inplace=True)</b></p>\n",
    "</body>\n",
    "</html>"
   ]
  },
  {
   "cell_type": "code",
   "execution_count": 6,
   "id": "88c35dea-36d3-43b0-a4a1-39814d6b8909",
   "metadata": {},
   "outputs": [
    {
     "name": "stdout",
     "output_type": "stream",
     "text": [
      "    sepallength  sepalwidth  petallength  petalwidth            class Name  \\\n",
      "0           5.1         3.5          1.4         0.2      Iris-setosa   F1   \n",
      "1           4.9         3.0          1.4         0.2      Iris-setosa   F2   \n",
      "2           4.7         3.2          1.3         0.2      Iris-setosa   F3   \n",
      "3           4.6         3.1          1.5         0.2      Iris-setosa   F4   \n",
      "4           5.0         3.6          1.4         0.2      Iris-setosa   F5   \n",
      "5           5.4         3.9          1.7         0.4      Iris-setosa   F6   \n",
      "6           4.6         3.4          1.4         0.3      Iris-setosa   F7   \n",
      "7           5.0         3.4          1.5         0.2      Iris-setosa   F8   \n",
      "8           7.0         3.2          4.7         1.4  Iris-versicolor   F9   \n",
      "9           6.4         3.2          4.5         1.5  Iris-versicolor  F10   \n",
      "10          6.9         3.1          4.9         1.5  Iris-versicolor  F11   \n",
      "11          5.5         2.3          4.0         1.3  Iris-versicolor  F12   \n",
      "12          6.5         2.8          4.6         1.5  Iris-versicolor  F13   \n",
      "13          5.7         2.8          4.5         1.3  Iris-versicolor  F14   \n",
      "14          6.3         3.3          4.7         1.6  Iris-versicolor  F15   \n",
      "15          4.9         2.4          3.3         1.0  Iris-versicolor  F16   \n",
      "16          6.3         3.3          6.0         2.5   Iris-virginica  F17   \n",
      "17          5.8         2.7          5.1         1.9   Iris-virginica  F18   \n",
      "18          7.1         3.0          5.9         2.1   Iris-virginica  F19   \n",
      "19          6.3         2.9          5.6         1.8   Iris-virginica  F20   \n",
      "20          6.5         3.0          5.8         2.2   Iris-virginica  F21   \n",
      "21          7.6         3.0          6.6         2.1   Iris-virginica  F22   \n",
      "22          4.9         2.5          4.5         NaN   Iris-virginica  F23   \n",
      "23          7.3         2.9          6.3         1.8   Iris-virginica  F24   \n",
      "24          7.3         2.9          6.3         1.8   Iris-virginica  F24   \n",
      "\n",
      "    Score  \n",
      "0    12.0  \n",
      "1     NaN  \n",
      "2    18.0  \n",
      "3    14.0  \n",
      "4    22.0  \n",
      "5    27.0  \n",
      "6    24.0  \n",
      "7    23.0  \n",
      "8    16.0  \n",
      "9    19.0  \n",
      "10   21.0  \n",
      "11   25.0  \n",
      "12   28.0  \n",
      "13   29.0  \n",
      "14   11.0  \n",
      "15   30.0  \n",
      "16   12.0  \n",
      "17   24.0  \n",
      "18   17.0  \n",
      "19   15.0  \n",
      "20   22.0  \n",
      "21   27.0  \n",
      "22   25.0  \n",
      "23   21.0  \n",
      "24   21.0  \n"
     ]
    },
    {
     "data": {
      "text/html": [
       "<div>\n",
       "<style scoped>\n",
       "    .dataframe tbody tr th:only-of-type {\n",
       "        vertical-align: middle;\n",
       "    }\n",
       "\n",
       "    .dataframe tbody tr th {\n",
       "        vertical-align: top;\n",
       "    }\n",
       "\n",
       "    .dataframe thead th {\n",
       "        text-align: right;\n",
       "    }\n",
       "</style>\n",
       "<table border=\"1\" class=\"dataframe\">\n",
       "  <thead>\n",
       "    <tr style=\"text-align: right;\">\n",
       "      <th></th>\n",
       "      <th>sepallength</th>\n",
       "      <th>sepalwidth</th>\n",
       "      <th>petallength</th>\n",
       "      <th>petalwidth</th>\n",
       "      <th>class</th>\n",
       "      <th>Name</th>\n",
       "      <th>Score</th>\n",
       "    </tr>\n",
       "  </thead>\n",
       "  <tbody>\n",
       "    <tr>\n",
       "      <th>0</th>\n",
       "      <td>5.1</td>\n",
       "      <td>3.5</td>\n",
       "      <td>1.4</td>\n",
       "      <td>0.2</td>\n",
       "      <td>Iris-setosa</td>\n",
       "      <td>F1</td>\n",
       "      <td>12.0</td>\n",
       "    </tr>\n",
       "    <tr>\n",
       "      <th>1</th>\n",
       "      <td>4.9</td>\n",
       "      <td>3.0</td>\n",
       "      <td>1.4</td>\n",
       "      <td>0.2</td>\n",
       "      <td>Iris-setosa</td>\n",
       "      <td>F2</td>\n",
       "      <td>NaN</td>\n",
       "    </tr>\n",
       "    <tr>\n",
       "      <th>2</th>\n",
       "      <td>4.7</td>\n",
       "      <td>3.2</td>\n",
       "      <td>1.3</td>\n",
       "      <td>0.2</td>\n",
       "      <td>Iris-setosa</td>\n",
       "      <td>F3</td>\n",
       "      <td>18.0</td>\n",
       "    </tr>\n",
       "    <tr>\n",
       "      <th>3</th>\n",
       "      <td>4.6</td>\n",
       "      <td>3.1</td>\n",
       "      <td>1.5</td>\n",
       "      <td>0.2</td>\n",
       "      <td>Iris-setosa</td>\n",
       "      <td>F4</td>\n",
       "      <td>14.0</td>\n",
       "    </tr>\n",
       "    <tr>\n",
       "      <th>4</th>\n",
       "      <td>5.0</td>\n",
       "      <td>3.6</td>\n",
       "      <td>1.4</td>\n",
       "      <td>0.2</td>\n",
       "      <td>Iris-setosa</td>\n",
       "      <td>F5</td>\n",
       "      <td>22.0</td>\n",
       "    </tr>\n",
       "  </tbody>\n",
       "</table>\n",
       "</div>"
      ],
      "text/plain": [
       "   sepallength  sepalwidth  petallength  petalwidth        class Name  Score\n",
       "0          5.1         3.5          1.4         0.2  Iris-setosa   F1   12.0\n",
       "1          4.9         3.0          1.4         0.2  Iris-setosa   F2    NaN\n",
       "2          4.7         3.2          1.3         0.2  Iris-setosa   F3   18.0\n",
       "3          4.6         3.1          1.5         0.2  Iris-setosa   F4   14.0\n",
       "4          5.0         3.6          1.4         0.2  Iris-setosa   F5   22.0"
      ]
     },
     "execution_count": 6,
     "metadata": {},
     "output_type": "execute_result"
    }
   ],
   "source": [
    "df.drop('Color',axis=1,inplace=True)\n",
    "print(df)\n",
    "df.head(5)"
   ]
  },
  {
   "cell_type": "markdown",
   "id": "89bd4f57-cb44-4e3e-8591-05d37071cd49",
   "metadata": {},
   "source": [
    "<!DOCTYPE html>\n",
    "<html lang=\"en\">\n",
    "<head>\n",
    "    <meta charset=\"UTF-8\">\n",
    "    <meta name=\"viewport\" content=\"width=device-width, initial-scale=1.0\">\n",
    "    \n",
    "</head>\n",
    "<body>\n",
    "    <p><b>2. Remove the duplicate rows and display the shape of the dataframe(use inplace=True)</b></p>\n",
    "</body>\n",
    "</html>"
   ]
  },
  {
   "cell_type": "code",
   "execution_count": 47,
   "id": "c82be2ec-14cd-4e1d-a36b-0c18b08f7f18",
   "metadata": {},
   "outputs": [
    {
     "data": {
      "text/plain": [
       "(24, 7)"
      ]
     },
     "execution_count": 47,
     "metadata": {},
     "output_type": "execute_result"
    }
   ],
   "source": [
    "#2_URK22CS5090\n",
    "df.drop_duplicates(keep=\"first\",inplace=True)\n",
    "df.shape"
   ]
  },
  {
   "cell_type": "markdown",
   "id": "88f20401-b55c-4c6c-97b7-8dac47d6f785",
   "metadata": {},
   "source": [
    "<!DOCTYPE html>\n",
    "<html lang=\"en\">\n",
    "<head>\n",
    "    <meta charset=\"UTF-8\">\n",
    "    <meta name=\"viewport\" content=\"width=device-width, initial-scale=1.0\">\n",
    "    \n",
    "</head>\n",
    "<body>\n",
    "    <p><b>3. Rename the column 'class' to 'Category' and display top 5 rows (use inplace=True)</b></p>\n",
    "</body>\n",
    "</html>"
   ]
  },
  {
   "cell_type": "code",
   "execution_count": 37,
   "id": "63001a8a-88e4-4135-94cc-ba62f180ad4f",
   "metadata": {},
   "outputs": [
    {
     "data": {
      "text/html": [
       "<div>\n",
       "<style scoped>\n",
       "    .dataframe tbody tr th:only-of-type {\n",
       "        vertical-align: middle;\n",
       "    }\n",
       "\n",
       "    .dataframe tbody tr th {\n",
       "        vertical-align: top;\n",
       "    }\n",
       "\n",
       "    .dataframe thead th {\n",
       "        text-align: right;\n",
       "    }\n",
       "</style>\n",
       "<table border=\"1\" class=\"dataframe\">\n",
       "  <thead>\n",
       "    <tr style=\"text-align: right;\">\n",
       "      <th></th>\n",
       "      <th>sepallength</th>\n",
       "      <th>sepalwidth</th>\n",
       "      <th>petallength</th>\n",
       "      <th>petalwidth</th>\n",
       "      <th>Category</th>\n",
       "      <th>Name</th>\n",
       "      <th>Score</th>\n",
       "      <th>Color</th>\n",
       "      <th>Category</th>\n",
       "    </tr>\n",
       "  </thead>\n",
       "  <tbody>\n",
       "    <tr>\n",
       "      <th>0</th>\n",
       "      <td>5.1</td>\n",
       "      <td>3.5</td>\n",
       "      <td>1.4</td>\n",
       "      <td>0.2</td>\n",
       "      <td>Iris-setosa</td>\n",
       "      <td>F1</td>\n",
       "      <td>12.0</td>\n",
       "      <td>Red</td>\n",
       "      <td>NaN</td>\n",
       "    </tr>\n",
       "    <tr>\n",
       "      <th>1</th>\n",
       "      <td>4.9</td>\n",
       "      <td>3.0</td>\n",
       "      <td>1.4</td>\n",
       "      <td>0.2</td>\n",
       "      <td>Iris-setosa</td>\n",
       "      <td>F2</td>\n",
       "      <td>NaN</td>\n",
       "      <td>Blue</td>\n",
       "      <td>NaN</td>\n",
       "    </tr>\n",
       "    <tr>\n",
       "      <th>2</th>\n",
       "      <td>4.7</td>\n",
       "      <td>3.2</td>\n",
       "      <td>1.3</td>\n",
       "      <td>0.2</td>\n",
       "      <td>Iris-setosa</td>\n",
       "      <td>F3</td>\n",
       "      <td>18.0</td>\n",
       "      <td>Orange</td>\n",
       "      <td>NaN</td>\n",
       "    </tr>\n",
       "    <tr>\n",
       "      <th>3</th>\n",
       "      <td>4.6</td>\n",
       "      <td>3.1</td>\n",
       "      <td>1.5</td>\n",
       "      <td>0.2</td>\n",
       "      <td>Iris-setosa</td>\n",
       "      <td>F4</td>\n",
       "      <td>14.0</td>\n",
       "      <td>Purple</td>\n",
       "      <td>NaN</td>\n",
       "    </tr>\n",
       "    <tr>\n",
       "      <th>4</th>\n",
       "      <td>5.0</td>\n",
       "      <td>3.6</td>\n",
       "      <td>1.4</td>\n",
       "      <td>0.2</td>\n",
       "      <td>Iris-setosa</td>\n",
       "      <td>F5</td>\n",
       "      <td>22.0</td>\n",
       "      <td>Red</td>\n",
       "      <td>NaN</td>\n",
       "    </tr>\n",
       "  </tbody>\n",
       "</table>\n",
       "</div>"
      ],
      "text/plain": [
       "   sepallength  sepalwidth  petallength  petalwidth     Category Name  Score  \\\n",
       "0          5.1         3.5          1.4         0.2  Iris-setosa   F1   12.0   \n",
       "1          4.9         3.0          1.4         0.2  Iris-setosa   F2    NaN   \n",
       "2          4.7         3.2          1.3         0.2  Iris-setosa   F3   18.0   \n",
       "3          4.6         3.1          1.5         0.2  Iris-setosa   F4   14.0   \n",
       "4          5.0         3.6          1.4         0.2  Iris-setosa   F5   22.0   \n",
       "\n",
       "    Color Category  \n",
       "0     Red      NaN  \n",
       "1    Blue      NaN  \n",
       "2  Orange      NaN  \n",
       "3  Purple      NaN  \n",
       "4     Red      NaN  "
      ]
     },
     "execution_count": 37,
     "metadata": {},
     "output_type": "execute_result"
    }
   ],
   "source": [
    "#3_URK22CS5090\n",
    "df.rename(columns = {\"class\":\"Category\"},inplace=True)\n",
    "df.head(5)"
   ]
  },
  {
   "cell_type": "markdown",
   "id": "211dc910-31bf-487f-89b6-a0dc002be60d",
   "metadata": {},
   "source": [
    "<!DOCTYPE html>\n",
    "<html lang=\"en\">\n",
    "<head>\n",
    "    <meta charset=\"UTF-8\">\n",
    "    <meta name=\"viewport\" content=\"width=device-width, initial-scale=1.0\">\n",
    "    \n",
    "</head>\n",
    "<body>\n",
    "    <p><b>4. Drop the missing value row-wise and display the shape of dataframe (use\n",
    "inplace=False)</b></p>\n",
    "</body>\n",
    "</html>"
   ]
  },
  {
   "cell_type": "code",
   "execution_count": 55,
   "id": "dbaa6f25-586e-47c2-ae49-3378db484ba0",
   "metadata": {},
   "outputs": [
    {
     "data": {
      "text/plain": [
       "(24, 7)"
      ]
     },
     "execution_count": 55,
     "metadata": {},
     "output_type": "execute_result"
    }
   ],
   "source": [
    "#4_URK22CS5090\n",
    "df.dropna(axis=0,inplace=False)\n",
    "df.shape"
   ]
  },
  {
   "cell_type": "markdown",
   "id": "bdd96027-532d-479b-80c9-a62a69efc928",
   "metadata": {},
   "source": [
    "<!DOCTYPE html>\n",
    "<html lang=\"en\">\n",
    "<head>\n",
    "    <meta charset=\"UTF-8\">\n",
    "    <meta name=\"viewport\" content=\"width=device-width, initial-scale=1.0\">\n",
    "    \n",
    "</head>\n",
    "<body>\n",
    "    <p><b>5. Calculate the central tendency measures for 'Score' and display the same</b></p>\n",
    "</body>\n",
    "</html>"
   ]
  },
  {
   "cell_type": "code",
   "execution_count": 57,
   "id": "0a8eaf9a-9488-4218-990c-ca1a369abf5d",
   "metadata": {},
   "outputs": [
    {
     "name": "stdout",
     "output_type": "stream",
     "text": [
      "Mean of the Score: 20.956521739130434\n",
      "Median of the Score: 22.0\n",
      "Mode of the Score: 0    12.0\n",
      "1    21.0\n",
      "2    22.0\n",
      "3    24.0\n",
      "4    25.0\n",
      "5    27.0\n",
      "Name: Score, dtype: float64\n"
     ]
    }
   ],
   "source": [
    "#5_URK22CS5090\n",
    "print(\"Mean of the Score:\",df[\"Score\"].mean())\n",
    "print(\"Median of the Score:\",df[\"Score\"].median())\n",
    "print(\"Mode of the Score:\",df[\"Score\"].mode())\n"
   ]
  },
  {
   "cell_type": "markdown",
   "id": "e1fae8b1-e6b7-43c8-9d52-a597ee1e5600",
   "metadata": {},
   "source": [
    "<!DOCTYPE html>\n",
    "<html lang=\"en\">\n",
    "<head>\n",
    "    <meta charset=\"UTF-8\">\n",
    "    <meta name=\"viewport\" content=\"width=device-width, initial-scale=1.0\">\n",
    "    \n",
    "</head>\n",
    "<body>\n",
    "    <p><b>6. Calculate the variability measures for 'Score' and display the same</b></p>\n",
    "</body>\n",
    "</html>"
   ]
  },
  {
   "cell_type": "code",
   "execution_count": 60,
   "id": "54da8b61-08d6-4e0d-8234-124bda830f85",
   "metadata": {},
   "outputs": [
    {
     "name": "stdout",
     "output_type": "stream",
     "text": [
      "Range of the Score is :  19.0\n",
      "Variance Of the Score is: 32.86166007905138\n",
      "Standard Deviation Of the Score is : 5.732509056168284\n"
     ]
    }
   ],
   "source": [
    "#6_URK22CS5090\n",
    "M=df[\"Score\"].max()\n",
    "N=df[\"Score\"].min()\n",
    "print(\"Range of the Score is : \",M-N)\n",
    "print(\"Variance Of the Score is:\",df[\"Score\"].var())\n",
    "print(\"Standard Deviation Of the Score is :\",df[\"Score\"].std())"
   ]
  },
  {
   "cell_type": "markdown",
   "id": "812bdd50-7e13-4a18-adf6-427df99e39d8",
   "metadata": {},
   "source": [
    "<!DOCTYPE html>\n",
    "<html lang=\"en\">\n",
    "<head>\n",
    "    <meta charset=\"UTF-8\">\n",
    "    <meta name=\"viewport\" content=\"width=device-width, initial-scale=1.0\">\n",
    "    \n",
    "</head>\n",
    "<body>\n",
    "    <p><b>7. Calculate the IQR using quantile for 'Score' and display the same</b></p>\n",
    "</body>\n",
    "</html>"
   ]
  },
  {
   "cell_type": "code",
   "execution_count": 59,
   "id": "bd42a8d1-ad97-4aaf-ad0d-871ca2b1a4cc",
   "metadata": {},
   "outputs": [
    {
     "name": "stdout",
     "output_type": "stream",
     "text": [
      "Q1 Value of Score is : 16.5\n",
      "Q2 Vali=ue of Score is : 25.0\n",
      "IQR of the Score is : 8.5\n"
     ]
    }
   ],
   "source": [
    "#7_URK22CS5090\n",
    "m=df[\"Score\"].quantile(0.25)\n",
    "n=df[\"Score\"].quantile(0.75)\n",
    "print(\"Q1 Value of Score is :\",m)\n",
    "print(\"Q2 Vali=ue of Score is :\",n)\n",
    "IQR= n - m\n",
    "print(\"IQR of the Score is :\",IQR)"
   ]
  },
  {
   "cell_type": "markdown",
   "id": "a0443b9d-59b2-4925-860b-bf52cf7c9844",
   "metadata": {},
   "source": [
    "<!DOCTYPE html>\n",
    "<html lang=\"en\">\n",
    "<head>\n",
    "    <meta charset=\"UTF-8\">\n",
    "    <meta name=\"viewport\" content=\"width=device-width, initial-scale=1.0\">\n",
    "    \n",
    "</head>\n",
    "<body>\n",
    "    <p><b>8. Calculate the z-score for 'Score' and display the same</b></p>\n",
    "</body>\n",
    "</html>"
   ]
  },
  {
   "cell_type": "code",
   "execution_count": 30,
   "id": "cf3d75ed-daa5-4eb0-a752-d51c89453e27",
   "metadata": {},
   "outputs": [
    {
     "data": {
      "text/html": [
       "<div>\n",
       "<style scoped>\n",
       "    .dataframe tbody tr th:only-of-type {\n",
       "        vertical-align: middle;\n",
       "    }\n",
       "\n",
       "    .dataframe tbody tr th {\n",
       "        vertical-align: top;\n",
       "    }\n",
       "\n",
       "    .dataframe thead th {\n",
       "        text-align: right;\n",
       "    }\n",
       "</style>\n",
       "<table border=\"1\" class=\"dataframe\">\n",
       "  <thead>\n",
       "    <tr style=\"text-align: right;\">\n",
       "      <th></th>\n",
       "      <th>sepallength</th>\n",
       "      <th>sepalwidth</th>\n",
       "      <th>petallength</th>\n",
       "      <th>petalwidth</th>\n",
       "      <th>class</th>\n",
       "      <th>Name</th>\n",
       "      <th>Score</th>\n",
       "      <th>Color</th>\n",
       "      <th>Category</th>\n",
       "      <th>ZScore</th>\n",
       "    </tr>\n",
       "  </thead>\n",
       "  <tbody>\n",
       "    <tr>\n",
       "      <th>26</th>\n",
       "      <td>4.6</td>\n",
       "      <td>1.3</td>\n",
       "      <td>0.3</td>\n",
       "      <td>NaN</td>\n",
       "      <td>NaN</td>\n",
       "      <td>F26</td>\n",
       "      <td>85.0</td>\n",
       "      <td>NaN</td>\n",
       "      <td>Iris-setosa</td>\n",
       "      <td>NaN</td>\n",
       "    </tr>\n",
       "    <tr>\n",
       "      <th>27</th>\n",
       "      <td>7.6</td>\n",
       "      <td>2.9</td>\n",
       "      <td>5.3</td>\n",
       "      <td>2.1</td>\n",
       "      <td>NaN</td>\n",
       "      <td>F25</td>\n",
       "      <td>80.0</td>\n",
       "      <td>NaN</td>\n",
       "      <td>Iris-virginica</td>\n",
       "      <td>NaN</td>\n",
       "    </tr>\n",
       "    <tr>\n",
       "      <th>28</th>\n",
       "      <td>4.6</td>\n",
       "      <td>1.3</td>\n",
       "      <td>0.3</td>\n",
       "      <td>NaN</td>\n",
       "      <td>NaN</td>\n",
       "      <td>F26</td>\n",
       "      <td>85.0</td>\n",
       "      <td>NaN</td>\n",
       "      <td>Iris-setosa</td>\n",
       "      <td>NaN</td>\n",
       "    </tr>\n",
       "    <tr>\n",
       "      <th>29</th>\n",
       "      <td>7.6</td>\n",
       "      <td>2.9</td>\n",
       "      <td>5.3</td>\n",
       "      <td>2.1</td>\n",
       "      <td>NaN</td>\n",
       "      <td>F25</td>\n",
       "      <td>80.0</td>\n",
       "      <td>NaN</td>\n",
       "      <td>Iris-virginica</td>\n",
       "      <td>NaN</td>\n",
       "    </tr>\n",
       "    <tr>\n",
       "      <th>30</th>\n",
       "      <td>4.6</td>\n",
       "      <td>1.3</td>\n",
       "      <td>0.3</td>\n",
       "      <td>NaN</td>\n",
       "      <td>NaN</td>\n",
       "      <td>F26</td>\n",
       "      <td>85.0</td>\n",
       "      <td>NaN</td>\n",
       "      <td>Iris-setosa</td>\n",
       "      <td>NaN</td>\n",
       "    </tr>\n",
       "  </tbody>\n",
       "</table>\n",
       "</div>"
      ],
      "text/plain": [
       "    sepallength  sepalwidth  petallength  petalwidth class Name  Score Color  \\\n",
       "26          4.6         1.3          0.3         NaN   NaN  F26   85.0   NaN   \n",
       "27          7.6         2.9          5.3         2.1   NaN  F25   80.0   NaN   \n",
       "28          4.6         1.3          0.3         NaN   NaN  F26   85.0   NaN   \n",
       "29          7.6         2.9          5.3         2.1   NaN  F25   80.0   NaN   \n",
       "30          4.6         1.3          0.3         NaN   NaN  F26   85.0   NaN   \n",
       "\n",
       "          Category  ZScore  \n",
       "26     Iris-setosa     NaN  \n",
       "27  Iris-virginica     NaN  \n",
       "28     Iris-setosa     NaN  \n",
       "29  Iris-virginica     NaN  \n",
       "30     Iris-setosa     NaN  "
      ]
     },
     "execution_count": 30,
     "metadata": {},
     "output_type": "execute_result"
    }
   ],
   "source": [
    "#8_URK22CS5090\n",
    "df1=df.copy()\n",
    "df1['ZScore']=sp.stats.zscore(df1['Score'])\n",
    "df1.head()\n",
    "df1.tail()"
   ]
  },
  {
   "cell_type": "markdown",
   "id": "39747570-78b2-4700-a91f-35906d967941",
   "metadata": {},
   "source": [
    "<!DOCTYPE html>\n",
    "<html lang=\"en\">\n",
    "<head>\n",
    "    <meta charset=\"UTF-8\">\n",
    "    <meta name=\"viewport\" content=\"width=device-width, initial-scale=1.0\">\n",
    "    \n",
    "</head>\n",
    "<body>\n",
    "    <p><b>9. Plot the heatmap using the correlation ('sepallength', 'sepalwidth', 'petallength',\n",
    "'petalwidth')</b></p>\n",
    "</body>\n",
    "</html>"
   ]
  },
  {
   "cell_type": "code",
   "execution_count": 32,
   "id": "b87ff8e8-6589-4c95-aa1e-c91ac6eb0d80",
   "metadata": {},
   "outputs": [
    {
     "data": {
      "text/plain": [
       "<Axes: >"
      ]
     },
     "execution_count": 32,
     "metadata": {},
     "output_type": "execute_result"
    },
    {
     "data": {
      "image/png": "[encoded data removed]",
      "text/plain": [
       "<Figure size 640x480 with 2 Axes>"
      ]
     },
     "metadata": {},
     "output_type": "display_data"
    }
   ],
   "source": [
    "#9_URK22CS5090\n",
    "df_numeric=df.select_dtypes(include=[np.number])\n",
    "c=df_numeric.corr()\n",
    "sns.heatmap(c,xticklabels=c.columns,yticklabels=c.columns,annot=True)"
   ]
  },
  {
   "cell_type": "markdown",
   "id": "d3455682-6fbe-4b3e-8c24-76168f35d340",
   "metadata": {},
   "source": [
    "<!DOCTYPE html>\n",
    "<html lang=\"en\">\n",
    "<head>\n",
    "    <meta charset=\"UTF-8\">\n",
    "    <meta name=\"viewport\" content=\"width=device-width, initial-scale=1.0\">\n",
    "    \n",
    "</head>\n",
    "<body>\n",
    "    <p><b>10.Add 2 rows at the end of the dataframe with the given values and display last 5 rows</b></p>\n",
    "</body>\n",
    "</html>"
   ]
  },
  {
   "cell_type": "code",
   "execution_count": 25,
   "id": "19943f9c-0d2a-4dad-a62d-9116822616aa",
   "metadata": {},
   "outputs": [
    {
     "data": {
      "text/html": [
       "<div>\n",
       "<style scoped>\n",
       "    .dataframe tbody tr th:only-of-type {\n",
       "        vertical-align: middle;\n",
       "    }\n",
       "\n",
       "    .dataframe tbody tr th {\n",
       "        vertical-align: top;\n",
       "    }\n",
       "\n",
       "    .dataframe thead th {\n",
       "        text-align: right;\n",
       "    }\n",
       "</style>\n",
       "<table border=\"1\" class=\"dataframe\">\n",
       "  <thead>\n",
       "    <tr style=\"text-align: right;\">\n",
       "      <th></th>\n",
       "      <th>sepallength</th>\n",
       "      <th>sepalwidth</th>\n",
       "      <th>petallength</th>\n",
       "      <th>petalwidth</th>\n",
       "      <th>class</th>\n",
       "      <th>Name</th>\n",
       "      <th>Score</th>\n",
       "      <th>Color</th>\n",
       "      <th>Category</th>\n",
       "    </tr>\n",
       "  </thead>\n",
       "  <tbody>\n",
       "    <tr>\n",
       "      <th>26</th>\n",
       "      <td>4.6</td>\n",
       "      <td>1.3</td>\n",
       "      <td>0.3</td>\n",
       "      <td>NaN</td>\n",
       "      <td>NaN</td>\n",
       "      <td>F26</td>\n",
       "      <td>85.0</td>\n",
       "      <td>NaN</td>\n",
       "      <td>Iris-setosa</td>\n",
       "    </tr>\n",
       "    <tr>\n",
       "      <th>27</th>\n",
       "      <td>7.6</td>\n",
       "      <td>2.9</td>\n",
       "      <td>5.3</td>\n",
       "      <td>2.1</td>\n",
       "      <td>NaN</td>\n",
       "      <td>F25</td>\n",
       "      <td>80.0</td>\n",
       "      <td>NaN</td>\n",
       "      <td>Iris-virginica</td>\n",
       "    </tr>\n",
       "    <tr>\n",
       "      <th>28</th>\n",
       "      <td>4.6</td>\n",
       "      <td>1.3</td>\n",
       "      <td>0.3</td>\n",
       "      <td>NaN</td>\n",
       "      <td>NaN</td>\n",
       "      <td>F26</td>\n",
       "      <td>85.0</td>\n",
       "      <td>NaN</td>\n",
       "      <td>Iris-setosa</td>\n",
       "    </tr>\n",
       "    <tr>\n",
       "      <th>29</th>\n",
       "      <td>7.6</td>\n",
       "      <td>2.9</td>\n",
       "      <td>5.3</td>\n",
       "      <td>2.1</td>\n",
       "      <td>NaN</td>\n",
       "      <td>F25</td>\n",
       "      <td>80.0</td>\n",
       "      <td>NaN</td>\n",
       "      <td>Iris-virginica</td>\n",
       "    </tr>\n",
       "    <tr>\n",
       "      <th>30</th>\n",
       "      <td>4.6</td>\n",
       "      <td>1.3</td>\n",
       "      <td>0.3</td>\n",
       "      <td>NaN</td>\n",
       "      <td>NaN</td>\n",
       "      <td>F26</td>\n",
       "      <td>85.0</td>\n",
       "      <td>NaN</td>\n",
       "      <td>Iris-setosa</td>\n",
       "    </tr>\n",
       "  </tbody>\n",
       "</table>\n",
       "</div>"
      ],
      "text/plain": [
       "    sepallength  sepalwidth  petallength  petalwidth class Name  Score Color  \\\n",
       "26          4.6         1.3          0.3         NaN   NaN  F26   85.0   NaN   \n",
       "27          7.6         2.9          5.3         2.1   NaN  F25   80.0   NaN   \n",
       "28          4.6         1.3          0.3         NaN   NaN  F26   85.0   NaN   \n",
       "29          7.6         2.9          5.3         2.1   NaN  F25   80.0   NaN   \n",
       "30          4.6         1.3          0.3         NaN   NaN  F26   85.0   NaN   \n",
       "\n",
       "          Category  \n",
       "26     Iris-setosa  \n",
       "27  Iris-virginica  \n",
       "28     Iris-setosa  \n",
       "29  Iris-virginica  \n",
       "30     Iris-setosa  "
      ]
     },
     "execution_count": 25,
     "metadata": {},
     "output_type": "execute_result"
    }
   ],
   "source": [
    "#10_URK22CS5090\n",
    "df2={'sepallength':7.6,'sepalwidth':2.9,'petallength':5.3,'petalwidth':2.1,'Category': \"Iris-virginica\",'Name':'F25','Score':80}\n",
    "df3={'sepallength':4.6,'sepalwidth':1.3,'petallength':0.3,'Category':\"Iris-setosa\",'Name':'F26','Score':85}\n",
    "\n",
    "df2=pd.DataFrame ([df2])\n",
    "df3=pd.DataFrame([df3])\n",
    "\n",
    "df=pd.concat([df,df2],ignore_index=True)\n",
    "df=pd.concat([df,df3],ignore_index=True)\n",
    "\n",
    "df.tail()"
   ]
  },
  {
   "cell_type": "markdown",
   "id": "f7c4124a-774f-4109-b257-084648560bed",
   "metadata": {},
   "source": [
    "<!DOCTYPE html>\n",
    "<html lang=\"en\">\n",
    "<head>\n",
    "    <meta charset=\"UTF-8\">\n",
    "    <meta name=\"viewport\" content=\"width=device-width, initial-scale=1.0\">\n",
    "    \n",
    "</head>\n",
    "<body>\n",
    "    <p><b>11. Replace NaN value in 'petalwidth' with mean petalwidth values and display last 5 rows</b></p>\n",
    "</body>\n",
    "</html>"
   ]
  },
  {
   "cell_type": "code",
   "execution_count": 70,
   "id": "3b4de134-4a7b-4977-8f06-1cca159c2fe2",
   "metadata": {},
   "outputs": [
    {
     "data": {
      "text/html": [
       "<div>\n",
       "<style scoped>\n",
       "    .dataframe tbody tr th:only-of-type {\n",
       "        vertical-align: middle;\n",
       "    }\n",
       "\n",
       "    .dataframe tbody tr th {\n",
       "        vertical-align: top;\n",
       "    }\n",
       "\n",
       "    .dataframe thead th {\n",
       "        text-align: right;\n",
       "    }\n",
       "</style>\n",
       "<table border=\"1\" class=\"dataframe\">\n",
       "  <thead>\n",
       "    <tr style=\"text-align: right;\">\n",
       "      <th></th>\n",
       "      <th>sepallength</th>\n",
       "      <th>sepalwidth</th>\n",
       "      <th>petallength</th>\n",
       "      <th>petalwidth</th>\n",
       "      <th>Category</th>\n",
       "      <th>Name</th>\n",
       "      <th>Score</th>\n",
       "    </tr>\n",
       "  </thead>\n",
       "  <tbody>\n",
       "    <tr>\n",
       "      <th>0</th>\n",
       "      <td>5.1</td>\n",
       "      <td>3.5</td>\n",
       "      <td>1.4</td>\n",
       "      <td>0.2</td>\n",
       "      <td>Iris-setosa</td>\n",
       "      <td>F1</td>\n",
       "      <td>12.0</td>\n",
       "    </tr>\n",
       "    <tr>\n",
       "      <th>1</th>\n",
       "      <td>4.9</td>\n",
       "      <td>3.0</td>\n",
       "      <td>1.4</td>\n",
       "      <td>0.2</td>\n",
       "      <td>Iris-setosa</td>\n",
       "      <td>F2</td>\n",
       "      <td>0.0</td>\n",
       "    </tr>\n",
       "    <tr>\n",
       "      <th>2</th>\n",
       "      <td>4.7</td>\n",
       "      <td>3.2</td>\n",
       "      <td>1.3</td>\n",
       "      <td>0.2</td>\n",
       "      <td>Iris-setosa</td>\n",
       "      <td>F3</td>\n",
       "      <td>18.0</td>\n",
       "    </tr>\n",
       "    <tr>\n",
       "      <th>3</th>\n",
       "      <td>4.6</td>\n",
       "      <td>3.1</td>\n",
       "      <td>1.5</td>\n",
       "      <td>0.2</td>\n",
       "      <td>Iris-setosa</td>\n",
       "      <td>F4</td>\n",
       "      <td>14.0</td>\n",
       "    </tr>\n",
       "    <tr>\n",
       "      <th>4</th>\n",
       "      <td>5.0</td>\n",
       "      <td>3.6</td>\n",
       "      <td>1.4</td>\n",
       "      <td>0.2</td>\n",
       "      <td>Iris-setosa</td>\n",
       "      <td>F5</td>\n",
       "      <td>22.0</td>\n",
       "    </tr>\n",
       "  </tbody>\n",
       "</table>\n",
       "</div>"
      ],
      "text/plain": [
       "   sepallength  sepalwidth  petallength  petalwidth     Category Name  Score\n",
       "0          5.1         3.5          1.4         0.2  Iris-setosa   F1   12.0\n",
       "1          4.9         3.0          1.4         0.2  Iris-setosa   F2    0.0\n",
       "2          4.7         3.2          1.3         0.2  Iris-setosa   F3   18.0\n",
       "3          4.6         3.1          1.5         0.2  Iris-setosa   F4   14.0\n",
       "4          5.0         3.6          1.4         0.2  Iris-setosa   F5   22.0"
      ]
     },
     "execution_count": 70,
     "metadata": {},
     "output_type": "execute_result"
    }
   ],
   "source": [
    "#11_URK22CS5090\n",
    "df[\"Score\"].fillna(0,inplace=True)\n",
    "df.head()"
   ]
  },
  {
   "cell_type": "markdown",
   "id": "d6e1eb20-5714-4c08-b1be-50965bc11826",
   "metadata": {},
   "source": [
    "<!DOCTYPE html>\n",
    "<html lang=\"en\">\n",
    "<head>\n",
    "    <meta charset=\"UTF-8\">\n",
    "    <meta name=\"viewport\" content=\"width=device-width, initial-scale=1.0\">\n",
    "    \n",
    "</head>\n",
    "<body>\n",
    "    <p><b>12.Detect the outliers in 'Score' with boxplot</b></p>\n",
    "</body>\n",
    "</html>"
   ]
  },
  {
   "cell_type": "code",
   "execution_count": 72,
   "id": "7801f2f8-96b4-4612-809d-290fc1199b14",
   "metadata": {},
   "outputs": [
    {
     "name": "stdout",
     "output_type": "stream",
     "text": [
      "Mean of the Score: 24.884615384615383\n",
      "Median of the Score: 22.0\n",
      "Mode of the Score: 0    12.0\n",
      "1    21.0\n",
      "2    22.0\n",
      "3    24.0\n",
      "4    25.0\n",
      "5    27.0\n",
      "Name: Score, dtype: float64\n"
     ]
    },
    {
     "data": {
      "image/png": "[encoded data removed]",
      "text/plain": [
       "<Figure size 500x500 with 1 Axes>"
      ]
     },
     "metadata": {},
     "output_type": "display_data"
    }
   ],
   "source": [
    "#12_URK22CS5090\n",
    "sns.catplot(x=\"Score\",kind='box',data=df)\n",
    "print(\"Mean of the Score:\",df[\"Score\"].mean())\n",
    "print(\"Median of the Score:\",df[\"Score\"].median())\n",
    "print(\"Mode of the Score:\",df[\"Score\"].mode())"
   ]
  },
  {
   "cell_type": "markdown",
   "id": "c90060ec-381f-41f3-88f9-371f77bdcbc0",
   "metadata": {},
   "source": [
    "<!DOCTYPE html>\n",
    "<html lang=\"en\">\n",
    "<head>\n",
    "    <meta charset=\"UTF-8\">\n",
    "    <meta name=\"viewport\" content=\"width=device-width, initial-scale=1.0\">\n",
    "    \n",
    "</head>\n",
    "<body>\n",
    "    <p><b>13. Remove the outliers using IQR and recalculate IQR in outlier removed 'Score' column\n",
    "and analyse with boxplot (Use df.copy())</b></p>\n",
    "</body>\n",
    "</html>"
   ]
  },
  {
   "cell_type": "code",
   "execution_count": 8,
   "id": "93f13a77-765b-48ce-8ebe-c4f7a2b777f1",
   "metadata": {},
   "outputs": [
    {
     "name": "stdout",
     "output_type": "stream",
     "text": [
      "IQR value of Score is: 8.25\n",
      "Lower Limit: 4.375\n",
      "Upper Limit: 37.375\n"
     ]
    },
    {
     "data": {
      "text/plain": [
       "<seaborn.axisgrid.FacetGrid at 0x7ffa90646800>"
      ]
     },
     "execution_count": 8,
     "metadata": {},
     "output_type": "execute_result"
    },
    {
     "data": {
      "image/png": "[encoded data removed]",
      "text/plain": [
       "<Figure size 500x500 with 1 Axes>"
      ]
     },
     "metadata": {},
     "output_type": "display_data"
    }
   ],
   "source": [
    "#13_URK22CS5090\n",
    "Q1=df[\"Score\"].quantile(0.25)\n",
    "Q3=df[\"Score\"].quantile(0.75)\n",
    "IQR=Q3-Q1\n",
    "print(\"IQR value of Score is:\",IQR)\n",
    "l=Q1-1.5*IQR\n",
    "u=Q3+1.5*IQR\n",
    "print(\"Lower Limit:\",l)\n",
    "print(\"Upper Limit:\",u)\n",
    "df_out=df[(df[\"Score\"]>l)& (df[\"Score\"]<u)]\n",
    "df_out.shape\n",
    "sns.catplot(x=\"Score\",kind=\"box\",data=df_out)\n",
    "\n"
   ]
  },
  {
   "cell_type": "markdown",
   "id": "07916a54-9d18-448e-b8ed-543eb9df9827",
   "metadata": {},
   "source": [
    "<!DOCTYPE html>\n",
    "<html lang=\"en\">\n",
    "<head>\n",
    "    <meta charset=\"UTF-8\">\n",
    "    <meta name=\"viewport\" content=\"width=device-width, initial-scale=1.0\">\n",
    "    \n",
    "</head>\n",
    "<body>\n",
    "    <p><b>14.Remove the outliers using z-score and recalculate z-score in outlier removed 'Score' and\n",
    "analyse with boxplot (Use df.copy())</b></p>\n",
    "</body>\n",
    "</html>"
   ]
  },
  {
   "cell_type": "code",
   "execution_count": 14,
   "id": "fadd5312-cd5c-4c44-88e0-072ff177851a",
   "metadata": {},
   "outputs": [
    {
     "name": "stdout",
     "output_type": "stream",
     "text": [
      "0    NaN\n",
      "1    NaN\n",
      "2    NaN\n",
      "3    NaN\n",
      "4    NaN\n",
      "5    NaN\n",
      "6    NaN\n",
      "7    NaN\n",
      "8    NaN\n",
      "9    NaN\n",
      "10   NaN\n",
      "11   NaN\n",
      "12   NaN\n",
      "13   NaN\n",
      "14   NaN\n",
      "15   NaN\n",
      "16   NaN\n",
      "17   NaN\n",
      "18   NaN\n",
      "19   NaN\n",
      "20   NaN\n",
      "21   NaN\n",
      "22   NaN\n",
      "23   NaN\n",
      "24   NaN\n",
      "Name: Score, dtype: float64\n"
     ]
    },
    {
     "data": {
      "text/html": [
       "<div>\n",
       "<style scoped>\n",
       "    .dataframe tbody tr th:only-of-type {\n",
       "        vertical-align: middle;\n",
       "    }\n",
       "\n",
       "    .dataframe tbody tr th {\n",
       "        vertical-align: top;\n",
       "    }\n",
       "\n",
       "    .dataframe thead th {\n",
       "        text-align: right;\n",
       "    }\n",
       "</style>\n",
       "<table border=\"1\" class=\"dataframe\">\n",
       "  <thead>\n",
       "    <tr style=\"text-align: right;\">\n",
       "      <th></th>\n",
       "      <th>sepallength</th>\n",
       "      <th>sepalwidth</th>\n",
       "      <th>petallength</th>\n",
       "      <th>petalwidth</th>\n",
       "      <th>class</th>\n",
       "      <th>Name</th>\n",
       "      <th>Score</th>\n",
       "    </tr>\n",
       "  </thead>\n",
       "  <tbody>\n",
       "  </tbody>\n",
       "</table>\n",
       "</div>"
      ],
      "text/plain": [
       "Empty DataFrame\n",
       "Columns: [sepallength, sepalwidth, petallength, petalwidth, class, Name, Score]\n",
       "Index: []"
      ]
     },
     "execution_count": 14,
     "metadata": {},
     "output_type": "execute_result"
    }
   ],
   "source": [
    "#14_URK22CS5090\n",
    "zscore=sp.stats.zscore(df[\"Score\"])\n",
    "print(zscore)\n",
    "filtered=(zscore<3)\n",
    "new_df=df[filtered]\n",
    "new_df.shape\n",
    "new_df.tail()\n"
   ]
  },
  {
   "cell_type": "markdown",
   "id": "8683b447-e112-4006-8e66-e5f7af4512d4",
   "metadata": {},
   "source": [
    "<!DOCTYPE html>\n",
    "<html lang=\"en\">\n",
    "<head>\n",
    "    <meta charset=\"UTF-8\">\n",
    "    <meta name=\"viewport\" content=\"width=device-width, initial-scale=1.0\">\n",
    "    \n",
    "</head>\n",
    "<body>\n",
    "    <p><b>15. Drop the last two rows added in the dataframe</b></p>\n",
    "</body>\n",
    "</html>"
   ]
  },
  {
   "cell_type": "code",
   "execution_count": 19,
   "id": "6569aec0-a39b-4ce3-883b-dcbdfdc6fd2f",
   "metadata": {},
   "outputs": [
    {
     "data": {
      "text/plain": [
       "(23, 8)"
      ]
     },
     "execution_count": 19,
     "metadata": {},
     "output_type": "execute_result"
    }
   ],
   "source": [
    "#15_URK22CS5090\n",
    "df.drop(df.tail(2).index,inplace=True)\n",
    "df.shape"
   ]
  },
  {
   "cell_type": "markdown",
   "id": "71b42941-41c7-4056-a49b-bf44b6eee1af",
   "metadata": {},
   "source": [
    "<!DOCTYPE html>\n",
    "<html lang=\"en\">\n",
    "<head>\n",
    "    <meta charset=\"UTF-8\">\n",
    "    <meta name=\"viewport\" content=\"width=device-width, initial-scale=1.0\">\n",
    "\n",
    "</head>\n",
    "<body>\n",
    "    <b><p>Result :</p></b>\n",
    "    <p>Thus Exploratory Data Analysis through Python has Executed Sucessfully</p>\n",
    "</body>\n",
    "</html>"
   ]
  }
 ],
 "metadata": {
  "kernelspec": {
   "display_name": "anaconda-2024.02-py310",
   "language": "python",
   "name": "conda-env-anaconda-2024.02-py310-py"
  },
  "language_info": {
   "codemirror_mode": {
    "name": "ipython",
    "version": 3
   },
   "file_extension": ".py",
   "mimetype": "text/x-python",
   "name": "python",
   "nbconvert_exporter": "python",
   "pygments_lexer": "ipython3",
   "version": "3.10.14"
  }
 },
 "nbformat": 4,
 "nbformat_minor": 5
}
